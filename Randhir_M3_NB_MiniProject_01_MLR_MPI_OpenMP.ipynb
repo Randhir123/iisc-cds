{
  "cells": [
    {
      "cell_type": "markdown",
      "metadata": {
        "id": "view-in-github",
        "colab_type": "text"
      },
      "source": [
        "<a href=\"https://colab.research.google.com/github/Randhir123/iisc-cds/blob/main/Randhir_M3_NB_MiniProject_01_MLR_MPI_OpenMP.ipynb\" target=\"_parent\"><img src=\"https://colab.research.google.com/assets/colab-badge.svg\" alt=\"Open In Colab\"/></a>"
      ]
    },
    {
      "cell_type": "markdown",
      "id": "heated-queens",
      "metadata": {
        "id": "heated-queens"
      },
      "source": [
        "# Advanced Certification Program in Computational Data Science\n",
        "## A program by IISc and TalentSprint\n",
        "### Mini-Project: Implementation of Multiple Linear Regression using MPI and OpenMP"
      ]
    },
    {
      "cell_type": "markdown",
      "id": "military-proportion",
      "metadata": {
        "id": "military-proportion"
      },
      "source": [
        "## Learning Objectives"
      ]
    },
    {
      "cell_type": "markdown",
      "id": "durable-grounds",
      "metadata": {
        "id": "durable-grounds"
      },
      "source": [
        "At the end of the mini-project, you will be able to :\n",
        "\n",
        "* understand the collective communication operations like scatter, gather, broadcast\n",
        "* understand the blocking and non-blocking communication\n",
        "* implement multiple linear regression and run it using MPI\n",
        "* implement the multiple linear regression based predictions using OpenMP"
      ]
    },
    {
      "cell_type": "markdown",
      "id": "growing-queens",
      "metadata": {
        "id": "growing-queens"
      },
      "source": [
        "### Dataset"
      ]
    },
    {
      "cell_type": "markdown",
      "id": "yLwz-D_xVT8o",
      "metadata": {
        "id": "yLwz-D_xVT8o"
      },
      "source": [
        "The dataset chosen for this mini-project is [Combined Cycle Power Plant](https://archive.ics.uci.edu/ml/datasets/combined+cycle+power+plant). The dataset is made up of 9568 records and 5 columns. Each record contains the values for Ambient Temperature, Exhaust Vaccum, Ambient Pressure, Relative Humidity and Energy Output.\n",
        "\n",
        "Predicting full load electrical power output of a base load power plant is important in order to maximize the profit from the available megawatt hours.  The base load operation of a power plant is influenced by four main parameters, which are used as input variables in the dataset, such as ambient temperature, atmospheric pressure, relative humidity, and exhaust steam pressure. These parameters affect electrical power output, which is considered as the target variable.\n",
        "\n",
        "**Note:** The data was collected over a six year period (2006-11)."
      ]
    },
    {
      "cell_type": "markdown",
      "id": "dominant-residence",
      "metadata": {
        "id": "dominant-residence"
      },
      "source": [
        "## Information"
      ]
    },
    {
      "cell_type": "markdown",
      "id": "coated-timing",
      "metadata": {
        "id": "coated-timing"
      },
      "source": [
        "#### MPI in a Nutshell\n",
        "\n",
        "MPI stands for \"Message Passing Interface\". It is a library of functions (in C / Python) or subroutines (in Fortran) that you insert into source code to perform data communication between processes. MPI was developed over two years of discussions led by the MPI Forum, a group of roughly sixty people representing some forty organizations.\n",
        "\n",
        "To know more about MPI click [here](https://hpc-tutorials.llnl.gov/mpi/)\n",
        "\n",
        "\n",
        "#### Multiple Linear Regression\n",
        "\n",
        "Multiple regression is an extension of simple linear regression. It is used when we want to predict the value of a variable based on the value of two or more other variables. The variable we want to predict is called the dependent variable (or sometimes, the outcome, target or criterion variable). The variables we are using to predict the value of the dependent variable are called the independent variables (or sometimes, the predictor, explanatory or regressor variables)."
      ]
    },
    {
      "cell_type": "markdown",
      "id": "global-savings",
      "metadata": {
        "id": "global-savings"
      },
      "source": [
        "**Note:** We will be using the mpi4py Python package for MPI based code implementation"
      ]
    },
    {
      "cell_type": "markdown",
      "id": "ndQNKsjS7c04",
      "metadata": {
        "id": "ndQNKsjS7c04"
      },
      "source": [
        "## Grading = 20 Points"
      ]
    },
    {
      "cell_type": "markdown",
      "id": "green-deviation",
      "metadata": {
        "id": "green-deviation"
      },
      "source": [
        "**Run the below code to install mpi4py package**"
      ]
    },
    {
      "cell_type": "code",
      "execution_count": null,
      "id": "designing-marketing",
      "metadata": {
        "colab": {
          "base_uri": "https://localhost:8080/"
        },
        "id": "designing-marketing",
        "outputId": "18c02454-d4d7-42da-9b68-346ce612cd31",
        "scrolled": true
      },
      "outputs": [
        {
          "output_type": "stream",
          "name": "stdout",
          "text": [
            "Collecting mpi4py\n",
            "  Downloading mpi4py-3.1.6.tar.gz (2.4 MB)\n",
            "\u001b[2K     \u001b[90m━━━━━━━━━━━━━━━━━━━━━━━━━━━━━━━━━━━━━━━━\u001b[0m \u001b[32m2.4/2.4 MB\u001b[0m \u001b[31m10.1 MB/s\u001b[0m eta \u001b[36m0:00:00\u001b[0m\n",
            "\u001b[?25h  Installing build dependencies ... \u001b[?25l\u001b[?25hdone\n",
            "  Getting requirements to build wheel ... \u001b[?25l\u001b[?25hdone\n",
            "  Preparing metadata (pyproject.toml) ... \u001b[?25l\u001b[?25hdone\n",
            "Building wheels for collected packages: mpi4py\n",
            "  Building wheel for mpi4py (pyproject.toml) ... \u001b[?25l\u001b[?25hdone\n",
            "  Created wheel for mpi4py: filename=mpi4py-3.1.6-cp310-cp310-linux_x86_64.whl size=2746315 sha256=30981de63fc75dbbd3f3b2326fb9a4786a0016ba930f7873291648d31dcb6e1f\n",
            "  Stored in directory: /root/.cache/pip/wheels/4c/ca/89/8fc1fb1c620afca13bb41c630b1f948bbf446e0aaa4b762e10\n",
            "Successfully built mpi4py\n",
            "Installing collected packages: mpi4py\n",
            "Successfully installed mpi4py-3.1.6\n"
          ]
        }
      ],
      "source": [
        "!pip install mpi4py"
      ]
    },
    {
      "cell_type": "markdown",
      "id": "dedicated-thong",
      "metadata": {
        "id": "dedicated-thong"
      },
      "source": [
        "#### Importing Necessary Packages"
      ]
    },
    {
      "cell_type": "code",
      "execution_count": null,
      "id": "reported-acrobat",
      "metadata": {
        "id": "reported-acrobat",
        "scrolled": true
      },
      "outputs": [],
      "source": [
        "# Importing pandas\n",
        "import pandas as pd\n",
        "# Importing Numpy\n",
        "import numpy as np\n",
        "# Importing MPI from mpi4py package\n",
        "from mpi4py import MPI\n",
        "# Importing sqrt function from the Math\n",
        "from math import sqrt\n",
        "# Importing Decimal, ROUND_HALF_UP functions from the decimal package\n",
        "from decimal import Decimal, ROUND_HALF_UP\n",
        "import time"
      ]
    },
    {
      "cell_type": "markdown",
      "id": "standing-zimbabwe",
      "metadata": {
        "id": "standing-zimbabwe"
      },
      "source": [
        "#### Downloading the data"
      ]
    },
    {
      "cell_type": "code",
      "execution_count": null,
      "id": "universal-jonathan",
      "metadata": {
        "cellView": "form",
        "id": "universal-jonathan",
        "scrolled": true
      },
      "outputs": [],
      "source": [
        "#@title Download the data\n",
        "!wget -qq https://cdn.iisc.talentsprint.com/CDS/Datasets/PowerPlantData.csv"
      ]
    },
    {
      "cell_type": "markdown",
      "id": "forty-still",
      "metadata": {
        "id": "forty-still"
      },
      "source": [
        "### Overview\n",
        "\n",
        "* Load the data and perform data pre-processing\n",
        "* Identify the features, target and split the data into train and test\n",
        "* Implement multiple Linear Regression by estimating the coefficients on the given data\n",
        "* Use MPI package to distribute the data and implement `communicator`\n",
        "* Define functions for each objective and make a script (.py) file to execute using MPI command\n",
        "* Use OpenMP component to predict the data and calculate the error on the predicted data\n",
        "* Implement the Linear Regression from `sklearn` and compare the results"
      ]
    },
    {
      "cell_type": "markdown",
      "id": "early-peace",
      "metadata": {
        "id": "early-peace"
      },
      "source": [
        "#### Exercise 1: Load data (1 point)\n",
        "\n",
        "Write a function that takes the filename as input and loads the data in a pandas dataframe with the column names as Ambient Temperature, Exhaust Vaccum, Ambient Pressure, Relative Humidity and Energy Output respectively.\n",
        "\n",
        "**Hint:** read_csv()\n"
      ]
    },
    {
      "cell_type": "code",
      "execution_count": null,
      "id": "differential-vacation",
      "metadata": {
        "id": "differential-vacation",
        "scrolled": true
      },
      "outputs": [],
      "source": [
        "FILENAME = \"/content/PowerPlantData.csv\" # File path\n",
        "\n",
        "# Define a function to load the data\n",
        "def load_data(filename):\n",
        "  \"\"\"\n",
        "  Load the Pandas dataframe from CSV\n",
        "  \"\"\"\n",
        "  return pd.read_csv(FILENAME)\n",
        "\n",
        "df = load_data(FILENAME)"
      ]
    },
    {
      "cell_type": "markdown",
      "id": "italian-expense",
      "metadata": {
        "id": "italian-expense"
      },
      "source": [
        "#### Exercise 2: Explore data (1 point)\n",
        "\n",
        "Write a function that takes the data loaded using the above defined function as input and explore it.\n",
        "\n",
        "**Hint:** You can define and check for following things in the dataset inside a function\n",
        "\n",
        "- checking for the number of rows and columns\n",
        "- summary of the dataset\n",
        "- check for the null values\n",
        "- check for the duplicate values"
      ]
    },
    {
      "cell_type": "code",
      "execution_count": null,
      "id": "local-quarter",
      "metadata": {
        "colab": {
          "base_uri": "https://localhost:8080/"
        },
        "id": "local-quarter",
        "outputId": "b987770a-e61b-43a7-ee38-9e70bc076d28",
        "scrolled": true
      },
      "outputs": [
        {
          "output_type": "execute_result",
          "data": {
            "text/plain": [
              "(9568, 5)"
            ]
          },
          "metadata": {},
          "execution_count": 5
        }
      ],
      "source": [
        "df.shape"
      ]
    },
    {
      "cell_type": "code",
      "execution_count": null,
      "id": "lwpJuLjtYl4c",
      "metadata": {
        "colab": {
          "base_uri": "https://localhost:8080/"
        },
        "id": "lwpJuLjtYl4c",
        "outputId": "3f52baca-21ea-43a9-b407-370d638d48ab"
      },
      "outputs": [
        {
          "output_type": "stream",
          "name": "stdout",
          "text": [
            "<class 'pandas.core.frame.DataFrame'>\n",
            "RangeIndex: 9568 entries, 0 to 9567\n",
            "Data columns (total 5 columns):\n",
            " #   Column  Non-Null Count  Dtype  \n",
            "---  ------  --------------  -----  \n",
            " 0   AT      9568 non-null   float64\n",
            " 1   V       9568 non-null   float64\n",
            " 2   AP      9568 non-null   float64\n",
            " 3   RH      9568 non-null   float64\n",
            " 4   PE      9568 non-null   float64\n",
            "dtypes: float64(5)\n",
            "memory usage: 373.9 KB\n"
          ]
        }
      ],
      "source": [
        "df.info()"
      ]
    },
    {
      "cell_type": "code",
      "execution_count": null,
      "id": "_JY80lwkYrQz",
      "metadata": {
        "colab": {
          "base_uri": "https://localhost:8080/",
          "height": 300
        },
        "id": "_JY80lwkYrQz",
        "outputId": "8b37aae9-6410-4566-a6ef-0f7cd6e0ba70"
      },
      "outputs": [
        {
          "output_type": "execute_result",
          "data": {
            "text/plain": [
              "                AT            V           AP           RH           PE\n",
              "count  9568.000000  9568.000000  9568.000000  9568.000000  9568.000000\n",
              "mean     19.651231    54.305804  1013.259078    73.308978   454.365009\n",
              "std       7.452473    12.707893     5.938784    14.600269    17.066995\n",
              "min       1.810000    25.360000   992.890000    25.560000   420.260000\n",
              "25%      13.510000    41.740000  1009.100000    63.327500   439.750000\n",
              "50%      20.345000    52.080000  1012.940000    74.975000   451.550000\n",
              "75%      25.720000    66.540000  1017.260000    84.830000   468.430000\n",
              "max      37.110000    81.560000  1033.300000   100.160000   495.760000"
            ],
            "text/html": [
              "\n",
              "  <div id=\"df-67fef657-aa8d-4062-bec0-c922017aed79\" class=\"colab-df-container\">\n",
              "    <div>\n",
              "<style scoped>\n",
              "    .dataframe tbody tr th:only-of-type {\n",
              "        vertical-align: middle;\n",
              "    }\n",
              "\n",
              "    .dataframe tbody tr th {\n",
              "        vertical-align: top;\n",
              "    }\n",
              "\n",
              "    .dataframe thead th {\n",
              "        text-align: right;\n",
              "    }\n",
              "</style>\n",
              "<table border=\"1\" class=\"dataframe\">\n",
              "  <thead>\n",
              "    <tr style=\"text-align: right;\">\n",
              "      <th></th>\n",
              "      <th>AT</th>\n",
              "      <th>V</th>\n",
              "      <th>AP</th>\n",
              "      <th>RH</th>\n",
              "      <th>PE</th>\n",
              "    </tr>\n",
              "  </thead>\n",
              "  <tbody>\n",
              "    <tr>\n",
              "      <th>count</th>\n",
              "      <td>9568.000000</td>\n",
              "      <td>9568.000000</td>\n",
              "      <td>9568.000000</td>\n",
              "      <td>9568.000000</td>\n",
              "      <td>9568.000000</td>\n",
              "    </tr>\n",
              "    <tr>\n",
              "      <th>mean</th>\n",
              "      <td>19.651231</td>\n",
              "      <td>54.305804</td>\n",
              "      <td>1013.259078</td>\n",
              "      <td>73.308978</td>\n",
              "      <td>454.365009</td>\n",
              "    </tr>\n",
              "    <tr>\n",
              "      <th>std</th>\n",
              "      <td>7.452473</td>\n",
              "      <td>12.707893</td>\n",
              "      <td>5.938784</td>\n",
              "      <td>14.600269</td>\n",
              "      <td>17.066995</td>\n",
              "    </tr>\n",
              "    <tr>\n",
              "      <th>min</th>\n",
              "      <td>1.810000</td>\n",
              "      <td>25.360000</td>\n",
              "      <td>992.890000</td>\n",
              "      <td>25.560000</td>\n",
              "      <td>420.260000</td>\n",
              "    </tr>\n",
              "    <tr>\n",
              "      <th>25%</th>\n",
              "      <td>13.510000</td>\n",
              "      <td>41.740000</td>\n",
              "      <td>1009.100000</td>\n",
              "      <td>63.327500</td>\n",
              "      <td>439.750000</td>\n",
              "    </tr>\n",
              "    <tr>\n",
              "      <th>50%</th>\n",
              "      <td>20.345000</td>\n",
              "      <td>52.080000</td>\n",
              "      <td>1012.940000</td>\n",
              "      <td>74.975000</td>\n",
              "      <td>451.550000</td>\n",
              "    </tr>\n",
              "    <tr>\n",
              "      <th>75%</th>\n",
              "      <td>25.720000</td>\n",
              "      <td>66.540000</td>\n",
              "      <td>1017.260000</td>\n",
              "      <td>84.830000</td>\n",
              "      <td>468.430000</td>\n",
              "    </tr>\n",
              "    <tr>\n",
              "      <th>max</th>\n",
              "      <td>37.110000</td>\n",
              "      <td>81.560000</td>\n",
              "      <td>1033.300000</td>\n",
              "      <td>100.160000</td>\n",
              "      <td>495.760000</td>\n",
              "    </tr>\n",
              "  </tbody>\n",
              "</table>\n",
              "</div>\n",
              "    <div class=\"colab-df-buttons\">\n",
              "\n",
              "  <div class=\"colab-df-container\">\n",
              "    <button class=\"colab-df-convert\" onclick=\"convertToInteractive('df-67fef657-aa8d-4062-bec0-c922017aed79')\"\n",
              "            title=\"Convert this dataframe to an interactive table.\"\n",
              "            style=\"display:none;\">\n",
              "\n",
              "  <svg xmlns=\"http://www.w3.org/2000/svg\" height=\"24px\" viewBox=\"0 -960 960 960\">\n",
              "    <path d=\"M120-120v-720h720v720H120Zm60-500h600v-160H180v160Zm220 220h160v-160H400v160Zm0 220h160v-160H400v160ZM180-400h160v-160H180v160Zm440 0h160v-160H620v160ZM180-180h160v-160H180v160Zm440 0h160v-160H620v160Z\"/>\n",
              "  </svg>\n",
              "    </button>\n",
              "\n",
              "  <style>\n",
              "    .colab-df-container {\n",
              "      display:flex;\n",
              "      gap: 12px;\n",
              "    }\n",
              "\n",
              "    .colab-df-convert {\n",
              "      background-color: #E8F0FE;\n",
              "      border: none;\n",
              "      border-radius: 50%;\n",
              "      cursor: pointer;\n",
              "      display: none;\n",
              "      fill: #1967D2;\n",
              "      height: 32px;\n",
              "      padding: 0 0 0 0;\n",
              "      width: 32px;\n",
              "    }\n",
              "\n",
              "    .colab-df-convert:hover {\n",
              "      background-color: #E2EBFA;\n",
              "      box-shadow: 0px 1px 2px rgba(60, 64, 67, 0.3), 0px 1px 3px 1px rgba(60, 64, 67, 0.15);\n",
              "      fill: #174EA6;\n",
              "    }\n",
              "\n",
              "    .colab-df-buttons div {\n",
              "      margin-bottom: 4px;\n",
              "    }\n",
              "\n",
              "    [theme=dark] .colab-df-convert {\n",
              "      background-color: #3B4455;\n",
              "      fill: #D2E3FC;\n",
              "    }\n",
              "\n",
              "    [theme=dark] .colab-df-convert:hover {\n",
              "      background-color: #434B5C;\n",
              "      box-shadow: 0px 1px 3px 1px rgba(0, 0, 0, 0.15);\n",
              "      filter: drop-shadow(0px 1px 2px rgba(0, 0, 0, 0.3));\n",
              "      fill: #FFFFFF;\n",
              "    }\n",
              "  </style>\n",
              "\n",
              "    <script>\n",
              "      const buttonEl =\n",
              "        document.querySelector('#df-67fef657-aa8d-4062-bec0-c922017aed79 button.colab-df-convert');\n",
              "      buttonEl.style.display =\n",
              "        google.colab.kernel.accessAllowed ? 'block' : 'none';\n",
              "\n",
              "      async function convertToInteractive(key) {\n",
              "        const element = document.querySelector('#df-67fef657-aa8d-4062-bec0-c922017aed79');\n",
              "        const dataTable =\n",
              "          await google.colab.kernel.invokeFunction('convertToInteractive',\n",
              "                                                    [key], {});\n",
              "        if (!dataTable) return;\n",
              "\n",
              "        const docLinkHtml = 'Like what you see? Visit the ' +\n",
              "          '<a target=\"_blank\" href=https://colab.research.google.com/notebooks/data_table.ipynb>data table notebook</a>'\n",
              "          + ' to learn more about interactive tables.';\n",
              "        element.innerHTML = '';\n",
              "        dataTable['output_type'] = 'display_data';\n",
              "        await google.colab.output.renderOutput(dataTable, element);\n",
              "        const docLink = document.createElement('div');\n",
              "        docLink.innerHTML = docLinkHtml;\n",
              "        element.appendChild(docLink);\n",
              "      }\n",
              "    </script>\n",
              "  </div>\n",
              "\n",
              "\n",
              "<div id=\"df-b77d2a86-1574-44ac-aa8f-40fae4560237\">\n",
              "  <button class=\"colab-df-quickchart\" onclick=\"quickchart('df-b77d2a86-1574-44ac-aa8f-40fae4560237')\"\n",
              "            title=\"Suggest charts\"\n",
              "            style=\"display:none;\">\n",
              "\n",
              "<svg xmlns=\"http://www.w3.org/2000/svg\" height=\"24px\"viewBox=\"0 0 24 24\"\n",
              "     width=\"24px\">\n",
              "    <g>\n",
              "        <path d=\"M19 3H5c-1.1 0-2 .9-2 2v14c0 1.1.9 2 2 2h14c1.1 0 2-.9 2-2V5c0-1.1-.9-2-2-2zM9 17H7v-7h2v7zm4 0h-2V7h2v10zm4 0h-2v-4h2v4z\"/>\n",
              "    </g>\n",
              "</svg>\n",
              "  </button>\n",
              "\n",
              "<style>\n",
              "  .colab-df-quickchart {\n",
              "      --bg-color: #E8F0FE;\n",
              "      --fill-color: #1967D2;\n",
              "      --hover-bg-color: #E2EBFA;\n",
              "      --hover-fill-color: #174EA6;\n",
              "      --disabled-fill-color: #AAA;\n",
              "      --disabled-bg-color: #DDD;\n",
              "  }\n",
              "\n",
              "  [theme=dark] .colab-df-quickchart {\n",
              "      --bg-color: #3B4455;\n",
              "      --fill-color: #D2E3FC;\n",
              "      --hover-bg-color: #434B5C;\n",
              "      --hover-fill-color: #FFFFFF;\n",
              "      --disabled-bg-color: #3B4455;\n",
              "      --disabled-fill-color: #666;\n",
              "  }\n",
              "\n",
              "  .colab-df-quickchart {\n",
              "    background-color: var(--bg-color);\n",
              "    border: none;\n",
              "    border-radius: 50%;\n",
              "    cursor: pointer;\n",
              "    display: none;\n",
              "    fill: var(--fill-color);\n",
              "    height: 32px;\n",
              "    padding: 0;\n",
              "    width: 32px;\n",
              "  }\n",
              "\n",
              "  .colab-df-quickchart:hover {\n",
              "    background-color: var(--hover-bg-color);\n",
              "    box-shadow: 0 1px 2px rgba(60, 64, 67, 0.3), 0 1px 3px 1px rgba(60, 64, 67, 0.15);\n",
              "    fill: var(--button-hover-fill-color);\n",
              "  }\n",
              "\n",
              "  .colab-df-quickchart-complete:disabled,\n",
              "  .colab-df-quickchart-complete:disabled:hover {\n",
              "    background-color: var(--disabled-bg-color);\n",
              "    fill: var(--disabled-fill-color);\n",
              "    box-shadow: none;\n",
              "  }\n",
              "\n",
              "  .colab-df-spinner {\n",
              "    border: 2px solid var(--fill-color);\n",
              "    border-color: transparent;\n",
              "    border-bottom-color: var(--fill-color);\n",
              "    animation:\n",
              "      spin 1s steps(1) infinite;\n",
              "  }\n",
              "\n",
              "  @keyframes spin {\n",
              "    0% {\n",
              "      border-color: transparent;\n",
              "      border-bottom-color: var(--fill-color);\n",
              "      border-left-color: var(--fill-color);\n",
              "    }\n",
              "    20% {\n",
              "      border-color: transparent;\n",
              "      border-left-color: var(--fill-color);\n",
              "      border-top-color: var(--fill-color);\n",
              "    }\n",
              "    30% {\n",
              "      border-color: transparent;\n",
              "      border-left-color: var(--fill-color);\n",
              "      border-top-color: var(--fill-color);\n",
              "      border-right-color: var(--fill-color);\n",
              "    }\n",
              "    40% {\n",
              "      border-color: transparent;\n",
              "      border-right-color: var(--fill-color);\n",
              "      border-top-color: var(--fill-color);\n",
              "    }\n",
              "    60% {\n",
              "      border-color: transparent;\n",
              "      border-right-color: var(--fill-color);\n",
              "    }\n",
              "    80% {\n",
              "      border-color: transparent;\n",
              "      border-right-color: var(--fill-color);\n",
              "      border-bottom-color: var(--fill-color);\n",
              "    }\n",
              "    90% {\n",
              "      border-color: transparent;\n",
              "      border-bottom-color: var(--fill-color);\n",
              "    }\n",
              "  }\n",
              "</style>\n",
              "\n",
              "  <script>\n",
              "    async function quickchart(key) {\n",
              "      const quickchartButtonEl =\n",
              "        document.querySelector('#' + key + ' button');\n",
              "      quickchartButtonEl.disabled = true;  // To prevent multiple clicks.\n",
              "      quickchartButtonEl.classList.add('colab-df-spinner');\n",
              "      try {\n",
              "        const charts = await google.colab.kernel.invokeFunction(\n",
              "            'suggestCharts', [key], {});\n",
              "      } catch (error) {\n",
              "        console.error('Error during call to suggestCharts:', error);\n",
              "      }\n",
              "      quickchartButtonEl.classList.remove('colab-df-spinner');\n",
              "      quickchartButtonEl.classList.add('colab-df-quickchart-complete');\n",
              "    }\n",
              "    (() => {\n",
              "      let quickchartButtonEl =\n",
              "        document.querySelector('#df-b77d2a86-1574-44ac-aa8f-40fae4560237 button');\n",
              "      quickchartButtonEl.style.display =\n",
              "        google.colab.kernel.accessAllowed ? 'block' : 'none';\n",
              "    })();\n",
              "  </script>\n",
              "</div>\n",
              "\n",
              "    </div>\n",
              "  </div>\n"
            ],
            "application/vnd.google.colaboratory.intrinsic+json": {
              "type": "dataframe",
              "summary": "{\n  \"name\": \"df\",\n  \"rows\": 8,\n  \"fields\": [\n    {\n      \"column\": \"AT\",\n      \"properties\": {\n        \"dtype\": \"number\",\n        \"std\": 3376.472633547901,\n        \"min\": 1.81,\n        \"max\": 9568.0,\n        \"num_unique_values\": 8,\n        \"samples\": [\n          19.651231187290968,\n          20.345,\n          9568.0\n        ],\n        \"semantic_type\": \"\",\n        \"description\": \"\"\n      }\n    },\n    {\n      \"column\": \"V\",\n      \"properties\": {\n        \"dtype\": \"number\",\n        \"std\": 3365.9849830462904,\n        \"min\": 12.707892998326809,\n        \"max\": 9568.0,\n        \"num_unique_values\": 8,\n        \"samples\": [\n          54.30580372073579,\n          52.08,\n          9568.0\n        ],\n        \"semantic_type\": \"\",\n        \"description\": \"\"\n      }\n    },\n    {\n      \"column\": \"AP\",\n      \"properties\": {\n        \"dtype\": \"number\",\n        \"std\": 3095.6238967121644,\n        \"min\": 5.938783705811606,\n        \"max\": 9568.0,\n        \"num_unique_values\": 8,\n        \"samples\": [\n          1013.2590781772575,\n          1012.94,\n          9568.0\n        ],\n        \"semantic_type\": \"\",\n        \"description\": \"\"\n      }\n    },\n    {\n      \"column\": \"RH\",\n      \"properties\": {\n        \"dtype\": \"number\",\n        \"std\": 3360.863351331952,\n        \"min\": 14.600268756728953,\n        \"max\": 9568.0,\n        \"num_unique_values\": 8,\n        \"samples\": [\n          73.30897784280936,\n          74.975,\n          9568.0\n        ],\n        \"semantic_type\": \"\",\n        \"description\": \"\"\n      }\n    },\n    {\n      \"column\": \"PE\",\n      \"properties\": {\n        \"dtype\": \"number\",\n        \"std\": 3247.7354735697872,\n        \"min\": 17.06699499980342,\n        \"max\": 9568.0,\n        \"num_unique_values\": 8,\n        \"samples\": [\n          454.36500940635455,\n          451.54999999999995,\n          9568.0\n        ],\n        \"semantic_type\": \"\",\n        \"description\": \"\"\n      }\n    }\n  ]\n}"
            }
          },
          "metadata": {},
          "execution_count": 7
        }
      ],
      "source": [
        "df.describe()"
      ]
    },
    {
      "cell_type": "code",
      "execution_count": null,
      "id": "fDZq8RnZh1Rm",
      "metadata": {
        "colab": {
          "base_uri": "https://localhost:8080/"
        },
        "id": "fDZq8RnZh1Rm",
        "outputId": "32e72397-f018-4029-da86-538be152e75d"
      },
      "outputs": [
        {
          "output_type": "execute_result",
          "data": {
            "text/plain": [
              "AT    0\n",
              "V     0\n",
              "AP    0\n",
              "RH    0\n",
              "PE    0\n",
              "dtype: int64"
            ]
          },
          "metadata": {},
          "execution_count": 8
        }
      ],
      "source": [
        "df.isnull().sum()"
      ]
    },
    {
      "cell_type": "code",
      "execution_count": null,
      "id": "YIaxm5RDYwKQ",
      "metadata": {
        "colab": {
          "base_uri": "https://localhost:8080/"
        },
        "id": "YIaxm5RDYwKQ",
        "outputId": "045c0344-5c9a-4492-b5c4-58e4ec949e0a"
      },
      "outputs": [
        {
          "output_type": "stream",
          "name": "stdout",
          "text": [
            "Null Values = False\n"
          ]
        }
      ],
      "source": [
        "print(\"Null Values =\", df.isnull().values.any())"
      ]
    },
    {
      "cell_type": "code",
      "execution_count": null,
      "id": "xtq-mhnpX0fS",
      "metadata": {
        "colab": {
          "base_uri": "https://localhost:8080/"
        },
        "id": "xtq-mhnpX0fS",
        "outputId": "6a3ca0ab-d2b1-43e9-8d0d-9937e3cdf7b4"
      },
      "outputs": [
        {
          "output_type": "execute_result",
          "data": {
            "text/plain": [
              "41"
            ]
          },
          "metadata": {},
          "execution_count": 10
        }
      ],
      "source": [
        "df.duplicated().sum()"
      ]
    },
    {
      "cell_type": "code",
      "execution_count": null,
      "id": "-knlQksYZiob",
      "metadata": {
        "colab": {
          "base_uri": "https://localhost:8080/"
        },
        "id": "-knlQksYZiob",
        "outputId": "465506a4-c32f-4865-e0ff-8757ca188380"
      },
      "outputs": [
        {
          "output_type": "execute_result",
          "data": {
            "text/plain": [
              "(9527, 5)"
            ]
          },
          "metadata": {},
          "execution_count": 11
        }
      ],
      "source": [
        "df = df.drop_duplicates()\n",
        "df.shape"
      ]
    },
    {
      "cell_type": "markdown",
      "id": "whole-retailer",
      "metadata": {
        "id": "whole-retailer"
      },
      "source": [
        "#### Exercise 3: Handle missing data (1 point)\n",
        "\n",
        "After exploring the dataset if there are any null values present in the dataset then define a function that takes data loaded using the above defined function as input and handle the null values accordingly.\n",
        "\n",
        "**Hint:**\n",
        "\n",
        "- Drop the records containing the null values - dropna()\n",
        "- Replace the null values with the mean/median/mode - fillna()"
      ]
    },
    {
      "cell_type": "code",
      "execution_count": null,
      "id": "incorporated-child",
      "metadata": {
        "colab": {
          "base_uri": "https://localhost:8080/",
          "height": 206
        },
        "id": "incorporated-child",
        "outputId": "b0aa2ecb-6b6c-43d7-ba38-6205c38c86ba",
        "scrolled": true
      },
      "outputs": [
        {
          "output_type": "execute_result",
          "data": {
            "text/plain": [
              "      AT      V       AP     RH      PE\n",
              "0   8.34  40.77  1010.84  90.01  480.48\n",
              "1  23.64  58.49  1011.40  74.20  445.75\n",
              "2  29.74  56.90  1007.15  41.91  438.76\n",
              "3  19.07  49.69  1007.22  76.79  453.09\n",
              "4  11.80  40.66  1017.13  97.20  464.43"
            ],
            "text/html": [
              "\n",
              "  <div id=\"df-93b8ba98-c155-4de0-88b0-cb1048fcc8b7\" class=\"colab-df-container\">\n",
              "    <div>\n",
              "<style scoped>\n",
              "    .dataframe tbody tr th:only-of-type {\n",
              "        vertical-align: middle;\n",
              "    }\n",
              "\n",
              "    .dataframe tbody tr th {\n",
              "        vertical-align: top;\n",
              "    }\n",
              "\n",
              "    .dataframe thead th {\n",
              "        text-align: right;\n",
              "    }\n",
              "</style>\n",
              "<table border=\"1\" class=\"dataframe\">\n",
              "  <thead>\n",
              "    <tr style=\"text-align: right;\">\n",
              "      <th></th>\n",
              "      <th>AT</th>\n",
              "      <th>V</th>\n",
              "      <th>AP</th>\n",
              "      <th>RH</th>\n",
              "      <th>PE</th>\n",
              "    </tr>\n",
              "  </thead>\n",
              "  <tbody>\n",
              "    <tr>\n",
              "      <th>0</th>\n",
              "      <td>8.34</td>\n",
              "      <td>40.77</td>\n",
              "      <td>1010.84</td>\n",
              "      <td>90.01</td>\n",
              "      <td>480.48</td>\n",
              "    </tr>\n",
              "    <tr>\n",
              "      <th>1</th>\n",
              "      <td>23.64</td>\n",
              "      <td>58.49</td>\n",
              "      <td>1011.40</td>\n",
              "      <td>74.20</td>\n",
              "      <td>445.75</td>\n",
              "    </tr>\n",
              "    <tr>\n",
              "      <th>2</th>\n",
              "      <td>29.74</td>\n",
              "      <td>56.90</td>\n",
              "      <td>1007.15</td>\n",
              "      <td>41.91</td>\n",
              "      <td>438.76</td>\n",
              "    </tr>\n",
              "    <tr>\n",
              "      <th>3</th>\n",
              "      <td>19.07</td>\n",
              "      <td>49.69</td>\n",
              "      <td>1007.22</td>\n",
              "      <td>76.79</td>\n",
              "      <td>453.09</td>\n",
              "    </tr>\n",
              "    <tr>\n",
              "      <th>4</th>\n",
              "      <td>11.80</td>\n",
              "      <td>40.66</td>\n",
              "      <td>1017.13</td>\n",
              "      <td>97.20</td>\n",
              "      <td>464.43</td>\n",
              "    </tr>\n",
              "  </tbody>\n",
              "</table>\n",
              "</div>\n",
              "    <div class=\"colab-df-buttons\">\n",
              "\n",
              "  <div class=\"colab-df-container\">\n",
              "    <button class=\"colab-df-convert\" onclick=\"convertToInteractive('df-93b8ba98-c155-4de0-88b0-cb1048fcc8b7')\"\n",
              "            title=\"Convert this dataframe to an interactive table.\"\n",
              "            style=\"display:none;\">\n",
              "\n",
              "  <svg xmlns=\"http://www.w3.org/2000/svg\" height=\"24px\" viewBox=\"0 -960 960 960\">\n",
              "    <path d=\"M120-120v-720h720v720H120Zm60-500h600v-160H180v160Zm220 220h160v-160H400v160Zm0 220h160v-160H400v160ZM180-400h160v-160H180v160Zm440 0h160v-160H620v160ZM180-180h160v-160H180v160Zm440 0h160v-160H620v160Z\"/>\n",
              "  </svg>\n",
              "    </button>\n",
              "\n",
              "  <style>\n",
              "    .colab-df-container {\n",
              "      display:flex;\n",
              "      gap: 12px;\n",
              "    }\n",
              "\n",
              "    .colab-df-convert {\n",
              "      background-color: #E8F0FE;\n",
              "      border: none;\n",
              "      border-radius: 50%;\n",
              "      cursor: pointer;\n",
              "      display: none;\n",
              "      fill: #1967D2;\n",
              "      height: 32px;\n",
              "      padding: 0 0 0 0;\n",
              "      width: 32px;\n",
              "    }\n",
              "\n",
              "    .colab-df-convert:hover {\n",
              "      background-color: #E2EBFA;\n",
              "      box-shadow: 0px 1px 2px rgba(60, 64, 67, 0.3), 0px 1px 3px 1px rgba(60, 64, 67, 0.15);\n",
              "      fill: #174EA6;\n",
              "    }\n",
              "\n",
              "    .colab-df-buttons div {\n",
              "      margin-bottom: 4px;\n",
              "    }\n",
              "\n",
              "    [theme=dark] .colab-df-convert {\n",
              "      background-color: #3B4455;\n",
              "      fill: #D2E3FC;\n",
              "    }\n",
              "\n",
              "    [theme=dark] .colab-df-convert:hover {\n",
              "      background-color: #434B5C;\n",
              "      box-shadow: 0px 1px 3px 1px rgba(0, 0, 0, 0.15);\n",
              "      filter: drop-shadow(0px 1px 2px rgba(0, 0, 0, 0.3));\n",
              "      fill: #FFFFFF;\n",
              "    }\n",
              "  </style>\n",
              "\n",
              "    <script>\n",
              "      const buttonEl =\n",
              "        document.querySelector('#df-93b8ba98-c155-4de0-88b0-cb1048fcc8b7 button.colab-df-convert');\n",
              "      buttonEl.style.display =\n",
              "        google.colab.kernel.accessAllowed ? 'block' : 'none';\n",
              "\n",
              "      async function convertToInteractive(key) {\n",
              "        const element = document.querySelector('#df-93b8ba98-c155-4de0-88b0-cb1048fcc8b7');\n",
              "        const dataTable =\n",
              "          await google.colab.kernel.invokeFunction('convertToInteractive',\n",
              "                                                    [key], {});\n",
              "        if (!dataTable) return;\n",
              "\n",
              "        const docLinkHtml = 'Like what you see? Visit the ' +\n",
              "          '<a target=\"_blank\" href=https://colab.research.google.com/notebooks/data_table.ipynb>data table notebook</a>'\n",
              "          + ' to learn more about interactive tables.';\n",
              "        element.innerHTML = '';\n",
              "        dataTable['output_type'] = 'display_data';\n",
              "        await google.colab.output.renderOutput(dataTable, element);\n",
              "        const docLink = document.createElement('div');\n",
              "        docLink.innerHTML = docLinkHtml;\n",
              "        element.appendChild(docLink);\n",
              "      }\n",
              "    </script>\n",
              "  </div>\n",
              "\n",
              "\n",
              "<div id=\"df-b199eb8a-1712-4d76-867e-9728b181a80e\">\n",
              "  <button class=\"colab-df-quickchart\" onclick=\"quickchart('df-b199eb8a-1712-4d76-867e-9728b181a80e')\"\n",
              "            title=\"Suggest charts\"\n",
              "            style=\"display:none;\">\n",
              "\n",
              "<svg xmlns=\"http://www.w3.org/2000/svg\" height=\"24px\"viewBox=\"0 0 24 24\"\n",
              "     width=\"24px\">\n",
              "    <g>\n",
              "        <path d=\"M19 3H5c-1.1 0-2 .9-2 2v14c0 1.1.9 2 2 2h14c1.1 0 2-.9 2-2V5c0-1.1-.9-2-2-2zM9 17H7v-7h2v7zm4 0h-2V7h2v10zm4 0h-2v-4h2v4z\"/>\n",
              "    </g>\n",
              "</svg>\n",
              "  </button>\n",
              "\n",
              "<style>\n",
              "  .colab-df-quickchart {\n",
              "      --bg-color: #E8F0FE;\n",
              "      --fill-color: #1967D2;\n",
              "      --hover-bg-color: #E2EBFA;\n",
              "      --hover-fill-color: #174EA6;\n",
              "      --disabled-fill-color: #AAA;\n",
              "      --disabled-bg-color: #DDD;\n",
              "  }\n",
              "\n",
              "  [theme=dark] .colab-df-quickchart {\n",
              "      --bg-color: #3B4455;\n",
              "      --fill-color: #D2E3FC;\n",
              "      --hover-bg-color: #434B5C;\n",
              "      --hover-fill-color: #FFFFFF;\n",
              "      --disabled-bg-color: #3B4455;\n",
              "      --disabled-fill-color: #666;\n",
              "  }\n",
              "\n",
              "  .colab-df-quickchart {\n",
              "    background-color: var(--bg-color);\n",
              "    border: none;\n",
              "    border-radius: 50%;\n",
              "    cursor: pointer;\n",
              "    display: none;\n",
              "    fill: var(--fill-color);\n",
              "    height: 32px;\n",
              "    padding: 0;\n",
              "    width: 32px;\n",
              "  }\n",
              "\n",
              "  .colab-df-quickchart:hover {\n",
              "    background-color: var(--hover-bg-color);\n",
              "    box-shadow: 0 1px 2px rgba(60, 64, 67, 0.3), 0 1px 3px 1px rgba(60, 64, 67, 0.15);\n",
              "    fill: var(--button-hover-fill-color);\n",
              "  }\n",
              "\n",
              "  .colab-df-quickchart-complete:disabled,\n",
              "  .colab-df-quickchart-complete:disabled:hover {\n",
              "    background-color: var(--disabled-bg-color);\n",
              "    fill: var(--disabled-fill-color);\n",
              "    box-shadow: none;\n",
              "  }\n",
              "\n",
              "  .colab-df-spinner {\n",
              "    border: 2px solid var(--fill-color);\n",
              "    border-color: transparent;\n",
              "    border-bottom-color: var(--fill-color);\n",
              "    animation:\n",
              "      spin 1s steps(1) infinite;\n",
              "  }\n",
              "\n",
              "  @keyframes spin {\n",
              "    0% {\n",
              "      border-color: transparent;\n",
              "      border-bottom-color: var(--fill-color);\n",
              "      border-left-color: var(--fill-color);\n",
              "    }\n",
              "    20% {\n",
              "      border-color: transparent;\n",
              "      border-left-color: var(--fill-color);\n",
              "      border-top-color: var(--fill-color);\n",
              "    }\n",
              "    30% {\n",
              "      border-color: transparent;\n",
              "      border-left-color: var(--fill-color);\n",
              "      border-top-color: var(--fill-color);\n",
              "      border-right-color: var(--fill-color);\n",
              "    }\n",
              "    40% {\n",
              "      border-color: transparent;\n",
              "      border-right-color: var(--fill-color);\n",
              "      border-top-color: var(--fill-color);\n",
              "    }\n",
              "    60% {\n",
              "      border-color: transparent;\n",
              "      border-right-color: var(--fill-color);\n",
              "    }\n",
              "    80% {\n",
              "      border-color: transparent;\n",
              "      border-right-color: var(--fill-color);\n",
              "      border-bottom-color: var(--fill-color);\n",
              "    }\n",
              "    90% {\n",
              "      border-color: transparent;\n",
              "      border-bottom-color: var(--fill-color);\n",
              "    }\n",
              "  }\n",
              "</style>\n",
              "\n",
              "  <script>\n",
              "    async function quickchart(key) {\n",
              "      const quickchartButtonEl =\n",
              "        document.querySelector('#' + key + ' button');\n",
              "      quickchartButtonEl.disabled = true;  // To prevent multiple clicks.\n",
              "      quickchartButtonEl.classList.add('colab-df-spinner');\n",
              "      try {\n",
              "        const charts = await google.colab.kernel.invokeFunction(\n",
              "            'suggestCharts', [key], {});\n",
              "      } catch (error) {\n",
              "        console.error('Error during call to suggestCharts:', error);\n",
              "      }\n",
              "      quickchartButtonEl.classList.remove('colab-df-spinner');\n",
              "      quickchartButtonEl.classList.add('colab-df-quickchart-complete');\n",
              "    }\n",
              "    (() => {\n",
              "      let quickchartButtonEl =\n",
              "        document.querySelector('#df-b199eb8a-1712-4d76-867e-9728b181a80e button');\n",
              "      quickchartButtonEl.style.display =\n",
              "        google.colab.kernel.accessAllowed ? 'block' : 'none';\n",
              "    })();\n",
              "  </script>\n",
              "</div>\n",
              "\n",
              "    </div>\n",
              "  </div>\n"
            ],
            "application/vnd.google.colaboratory.intrinsic+json": {
              "type": "dataframe",
              "variable_name": "df",
              "summary": "{\n  \"name\": \"df\",\n  \"rows\": 9527,\n  \"fields\": [\n    {\n      \"column\": \"AT\",\n      \"properties\": {\n        \"dtype\": \"number\",\n        \"std\": 7.444397078136742,\n        \"min\": 1.81,\n        \"max\": 37.11,\n        \"num_unique_values\": 2773,\n        \"samples\": [\n          11.02,\n          15.61,\n          16.31\n        ],\n        \"semantic_type\": \"\",\n        \"description\": \"\"\n      }\n    },\n    {\n      \"column\": \"V\",\n      \"properties\": {\n        \"dtype\": \"number\",\n        \"std\": 12.686309009374435,\n        \"min\": 25.36,\n        \"max\": 81.56,\n        \"num_unique_values\": 634,\n        \"samples\": [\n          76.2,\n          69.05,\n          39.13\n        ],\n        \"semantic_type\": \"\",\n        \"description\": \"\"\n      }\n    },\n    {\n      \"column\": \"AP\",\n      \"properties\": {\n        \"dtype\": \"number\",\n        \"std\": 5.9405260647572895,\n        \"min\": 992.89,\n        \"max\": 1033.3,\n        \"num_unique_values\": 2517,\n        \"samples\": [\n          1000.98,\n          1002.2,\n          1024.55\n        ],\n        \"semantic_type\": \"\",\n        \"description\": \"\"\n      }\n    },\n    {\n      \"column\": \"RH\",\n      \"properties\": {\n        \"dtype\": \"number\",\n        \"std\": 14.60751325291208,\n        \"min\": 25.56,\n        \"max\": 100.16,\n        \"num_unique_values\": 4546,\n        \"samples\": [\n          66.5,\n          99.14,\n          89.19\n        ],\n        \"semantic_type\": \"\",\n        \"description\": \"\"\n      }\n    },\n    {\n      \"column\": \"PE\",\n      \"properties\": {\n        \"dtype\": \"number\",\n        \"std\": 17.039080412855856,\n        \"min\": 420.26,\n        \"max\": 495.76,\n        \"num_unique_values\": 4836,\n        \"samples\": [\n          447.69,\n          443.89,\n          443.02\n        ],\n        \"semantic_type\": \"\",\n        \"description\": \"\"\n      }\n    }\n  ]\n}"
            }
          },
          "metadata": {},
          "execution_count": 12
        }
      ],
      "source": [
        "# Function to handle missing data\n",
        "\n",
        "def handle_missing_data(df, strategy='mean'):\n",
        "    \"\"\"\n",
        "    Handle missing data in a DataFrame.\n",
        "\n",
        "    Parameters:\n",
        "    df (DataFrame): Input DataFrame with missing values.\n",
        "    strategy (str): Imputation strategy. Options: 'mean', 'median', 'mode', or a specific value.\n",
        "\n",
        "    Returns:\n",
        "    DataFrame: DataFrame with missing values handled according to the specified strategy.\n",
        "    \"\"\"\n",
        "    if strategy == 'drop':\n",
        "        return df.dropna()\n",
        "    elif strategy == 'mean':\n",
        "        return df.fillna(df.mean())\n",
        "    elif strategy == 'median':\n",
        "        return df.fillna(df.median())\n",
        "    elif strategy == 'mode':\n",
        "        return df.fillna(df.mode().iloc[0])\n",
        "    else:\n",
        "        return df.fillna(strategy)\n",
        "\n",
        "df = handle_missing_data(df)\n",
        "df.head()"
      ]
    },
    {
      "cell_type": "markdown",
      "id": "loaded-arbitration",
      "metadata": {
        "id": "loaded-arbitration"
      },
      "source": [
        "#### Exercise 4: Scale the data (1 point)\n",
        "\n",
        "Write a function that takes the data after handling the missing data as input and returns the standardized data.\n",
        "\n",
        "**Hint:**\n",
        "\n",
        "- standardization of the data  can be performed using the below formula\n",
        "\n",
        "$ (x - mean(x)) / std(x) $"
      ]
    },
    {
      "cell_type": "code",
      "execution_count": null,
      "id": "extraordinary-qatar",
      "metadata": {
        "colab": {
          "base_uri": "https://localhost:8080/",
          "height": 206
        },
        "id": "extraordinary-qatar",
        "outputId": "00d3b5c4-df0d-40a5-d2a3-5d73b391a06f",
        "scrolled": true
      },
      "outputs": [
        {
          "output_type": "execute_result",
          "data": {
            "text/plain": [
              "         AT         V        AP        RH        PE\n",
              "0 -1.520368 -1.065985 -0.403514  1.141539  1.534360\n",
              "1  0.534869  0.330796 -0.309246  0.059219 -0.503895\n",
              "2  1.354277  0.205464 -1.024671 -2.151287 -0.914129\n",
              "3 -0.079016 -0.362865 -1.012887  0.236525 -0.073121\n",
              "4 -1.055589 -1.074656  0.655315  1.633752  0.592408"
            ],
            "text/html": [
              "\n",
              "  <div id=\"df-a48a693d-ed4b-4689-8cf2-e7bd447c3c80\" class=\"colab-df-container\">\n",
              "    <div>\n",
              "<style scoped>\n",
              "    .dataframe tbody tr th:only-of-type {\n",
              "        vertical-align: middle;\n",
              "    }\n",
              "\n",
              "    .dataframe tbody tr th {\n",
              "        vertical-align: top;\n",
              "    }\n",
              "\n",
              "    .dataframe thead th {\n",
              "        text-align: right;\n",
              "    }\n",
              "</style>\n",
              "<table border=\"1\" class=\"dataframe\">\n",
              "  <thead>\n",
              "    <tr style=\"text-align: right;\">\n",
              "      <th></th>\n",
              "      <th>AT</th>\n",
              "      <th>V</th>\n",
              "      <th>AP</th>\n",
              "      <th>RH</th>\n",
              "      <th>PE</th>\n",
              "    </tr>\n",
              "  </thead>\n",
              "  <tbody>\n",
              "    <tr>\n",
              "      <th>0</th>\n",
              "      <td>-1.520368</td>\n",
              "      <td>-1.065985</td>\n",
              "      <td>-0.403514</td>\n",
              "      <td>1.141539</td>\n",
              "      <td>1.534360</td>\n",
              "    </tr>\n",
              "    <tr>\n",
              "      <th>1</th>\n",
              "      <td>0.534869</td>\n",
              "      <td>0.330796</td>\n",
              "      <td>-0.309246</td>\n",
              "      <td>0.059219</td>\n",
              "      <td>-0.503895</td>\n",
              "    </tr>\n",
              "    <tr>\n",
              "      <th>2</th>\n",
              "      <td>1.354277</td>\n",
              "      <td>0.205464</td>\n",
              "      <td>-1.024671</td>\n",
              "      <td>-2.151287</td>\n",
              "      <td>-0.914129</td>\n",
              "    </tr>\n",
              "    <tr>\n",
              "      <th>3</th>\n",
              "      <td>-0.079016</td>\n",
              "      <td>-0.362865</td>\n",
              "      <td>-1.012887</td>\n",
              "      <td>0.236525</td>\n",
              "      <td>-0.073121</td>\n",
              "    </tr>\n",
              "    <tr>\n",
              "      <th>4</th>\n",
              "      <td>-1.055589</td>\n",
              "      <td>-1.074656</td>\n",
              "      <td>0.655315</td>\n",
              "      <td>1.633752</td>\n",
              "      <td>0.592408</td>\n",
              "    </tr>\n",
              "  </tbody>\n",
              "</table>\n",
              "</div>\n",
              "    <div class=\"colab-df-buttons\">\n",
              "\n",
              "  <div class=\"colab-df-container\">\n",
              "    <button class=\"colab-df-convert\" onclick=\"convertToInteractive('df-a48a693d-ed4b-4689-8cf2-e7bd447c3c80')\"\n",
              "            title=\"Convert this dataframe to an interactive table.\"\n",
              "            style=\"display:none;\">\n",
              "\n",
              "  <svg xmlns=\"http://www.w3.org/2000/svg\" height=\"24px\" viewBox=\"0 -960 960 960\">\n",
              "    <path d=\"M120-120v-720h720v720H120Zm60-500h600v-160H180v160Zm220 220h160v-160H400v160Zm0 220h160v-160H400v160ZM180-400h160v-160H180v160Zm440 0h160v-160H620v160ZM180-180h160v-160H180v160Zm440 0h160v-160H620v160Z\"/>\n",
              "  </svg>\n",
              "    </button>\n",
              "\n",
              "  <style>\n",
              "    .colab-df-container {\n",
              "      display:flex;\n",
              "      gap: 12px;\n",
              "    }\n",
              "\n",
              "    .colab-df-convert {\n",
              "      background-color: #E8F0FE;\n",
              "      border: none;\n",
              "      border-radius: 50%;\n",
              "      cursor: pointer;\n",
              "      display: none;\n",
              "      fill: #1967D2;\n",
              "      height: 32px;\n",
              "      padding: 0 0 0 0;\n",
              "      width: 32px;\n",
              "    }\n",
              "\n",
              "    .colab-df-convert:hover {\n",
              "      background-color: #E2EBFA;\n",
              "      box-shadow: 0px 1px 2px rgba(60, 64, 67, 0.3), 0px 1px 3px 1px rgba(60, 64, 67, 0.15);\n",
              "      fill: #174EA6;\n",
              "    }\n",
              "\n",
              "    .colab-df-buttons div {\n",
              "      margin-bottom: 4px;\n",
              "    }\n",
              "\n",
              "    [theme=dark] .colab-df-convert {\n",
              "      background-color: #3B4455;\n",
              "      fill: #D2E3FC;\n",
              "    }\n",
              "\n",
              "    [theme=dark] .colab-df-convert:hover {\n",
              "      background-color: #434B5C;\n",
              "      box-shadow: 0px 1px 3px 1px rgba(0, 0, 0, 0.15);\n",
              "      filter: drop-shadow(0px 1px 2px rgba(0, 0, 0, 0.3));\n",
              "      fill: #FFFFFF;\n",
              "    }\n",
              "  </style>\n",
              "\n",
              "    <script>\n",
              "      const buttonEl =\n",
              "        document.querySelector('#df-a48a693d-ed4b-4689-8cf2-e7bd447c3c80 button.colab-df-convert');\n",
              "      buttonEl.style.display =\n",
              "        google.colab.kernel.accessAllowed ? 'block' : 'none';\n",
              "\n",
              "      async function convertToInteractive(key) {\n",
              "        const element = document.querySelector('#df-a48a693d-ed4b-4689-8cf2-e7bd447c3c80');\n",
              "        const dataTable =\n",
              "          await google.colab.kernel.invokeFunction('convertToInteractive',\n",
              "                                                    [key], {});\n",
              "        if (!dataTable) return;\n",
              "\n",
              "        const docLinkHtml = 'Like what you see? Visit the ' +\n",
              "          '<a target=\"_blank\" href=https://colab.research.google.com/notebooks/data_table.ipynb>data table notebook</a>'\n",
              "          + ' to learn more about interactive tables.';\n",
              "        element.innerHTML = '';\n",
              "        dataTable['output_type'] = 'display_data';\n",
              "        await google.colab.output.renderOutput(dataTable, element);\n",
              "        const docLink = document.createElement('div');\n",
              "        docLink.innerHTML = docLinkHtml;\n",
              "        element.appendChild(docLink);\n",
              "      }\n",
              "    </script>\n",
              "  </div>\n",
              "\n",
              "\n",
              "<div id=\"df-8c73d881-9f38-451f-ad09-bcb27847711b\">\n",
              "  <button class=\"colab-df-quickchart\" onclick=\"quickchart('df-8c73d881-9f38-451f-ad09-bcb27847711b')\"\n",
              "            title=\"Suggest charts\"\n",
              "            style=\"display:none;\">\n",
              "\n",
              "<svg xmlns=\"http://www.w3.org/2000/svg\" height=\"24px\"viewBox=\"0 0 24 24\"\n",
              "     width=\"24px\">\n",
              "    <g>\n",
              "        <path d=\"M19 3H5c-1.1 0-2 .9-2 2v14c0 1.1.9 2 2 2h14c1.1 0 2-.9 2-2V5c0-1.1-.9-2-2-2zM9 17H7v-7h2v7zm4 0h-2V7h2v10zm4 0h-2v-4h2v4z\"/>\n",
              "    </g>\n",
              "</svg>\n",
              "  </button>\n",
              "\n",
              "<style>\n",
              "  .colab-df-quickchart {\n",
              "      --bg-color: #E8F0FE;\n",
              "      --fill-color: #1967D2;\n",
              "      --hover-bg-color: #E2EBFA;\n",
              "      --hover-fill-color: #174EA6;\n",
              "      --disabled-fill-color: #AAA;\n",
              "      --disabled-bg-color: #DDD;\n",
              "  }\n",
              "\n",
              "  [theme=dark] .colab-df-quickchart {\n",
              "      --bg-color: #3B4455;\n",
              "      --fill-color: #D2E3FC;\n",
              "      --hover-bg-color: #434B5C;\n",
              "      --hover-fill-color: #FFFFFF;\n",
              "      --disabled-bg-color: #3B4455;\n",
              "      --disabled-fill-color: #666;\n",
              "  }\n",
              "\n",
              "  .colab-df-quickchart {\n",
              "    background-color: var(--bg-color);\n",
              "    border: none;\n",
              "    border-radius: 50%;\n",
              "    cursor: pointer;\n",
              "    display: none;\n",
              "    fill: var(--fill-color);\n",
              "    height: 32px;\n",
              "    padding: 0;\n",
              "    width: 32px;\n",
              "  }\n",
              "\n",
              "  .colab-df-quickchart:hover {\n",
              "    background-color: var(--hover-bg-color);\n",
              "    box-shadow: 0 1px 2px rgba(60, 64, 67, 0.3), 0 1px 3px 1px rgba(60, 64, 67, 0.15);\n",
              "    fill: var(--button-hover-fill-color);\n",
              "  }\n",
              "\n",
              "  .colab-df-quickchart-complete:disabled,\n",
              "  .colab-df-quickchart-complete:disabled:hover {\n",
              "    background-color: var(--disabled-bg-color);\n",
              "    fill: var(--disabled-fill-color);\n",
              "    box-shadow: none;\n",
              "  }\n",
              "\n",
              "  .colab-df-spinner {\n",
              "    border: 2px solid var(--fill-color);\n",
              "    border-color: transparent;\n",
              "    border-bottom-color: var(--fill-color);\n",
              "    animation:\n",
              "      spin 1s steps(1) infinite;\n",
              "  }\n",
              "\n",
              "  @keyframes spin {\n",
              "    0% {\n",
              "      border-color: transparent;\n",
              "      border-bottom-color: var(--fill-color);\n",
              "      border-left-color: var(--fill-color);\n",
              "    }\n",
              "    20% {\n",
              "      border-color: transparent;\n",
              "      border-left-color: var(--fill-color);\n",
              "      border-top-color: var(--fill-color);\n",
              "    }\n",
              "    30% {\n",
              "      border-color: transparent;\n",
              "      border-left-color: var(--fill-color);\n",
              "      border-top-color: var(--fill-color);\n",
              "      border-right-color: var(--fill-color);\n",
              "    }\n",
              "    40% {\n",
              "      border-color: transparent;\n",
              "      border-right-color: var(--fill-color);\n",
              "      border-top-color: var(--fill-color);\n",
              "    }\n",
              "    60% {\n",
              "      border-color: transparent;\n",
              "      border-right-color: var(--fill-color);\n",
              "    }\n",
              "    80% {\n",
              "      border-color: transparent;\n",
              "      border-right-color: var(--fill-color);\n",
              "      border-bottom-color: var(--fill-color);\n",
              "    }\n",
              "    90% {\n",
              "      border-color: transparent;\n",
              "      border-bottom-color: var(--fill-color);\n",
              "    }\n",
              "  }\n",
              "</style>\n",
              "\n",
              "  <script>\n",
              "    async function quickchart(key) {\n",
              "      const quickchartButtonEl =\n",
              "        document.querySelector('#' + key + ' button');\n",
              "      quickchartButtonEl.disabled = true;  // To prevent multiple clicks.\n",
              "      quickchartButtonEl.classList.add('colab-df-spinner');\n",
              "      try {\n",
              "        const charts = await google.colab.kernel.invokeFunction(\n",
              "            'suggestCharts', [key], {});\n",
              "      } catch (error) {\n",
              "        console.error('Error during call to suggestCharts:', error);\n",
              "      }\n",
              "      quickchartButtonEl.classList.remove('colab-df-spinner');\n",
              "      quickchartButtonEl.classList.add('colab-df-quickchart-complete');\n",
              "    }\n",
              "    (() => {\n",
              "      let quickchartButtonEl =\n",
              "        document.querySelector('#df-8c73d881-9f38-451f-ad09-bcb27847711b button');\n",
              "      quickchartButtonEl.style.display =\n",
              "        google.colab.kernel.accessAllowed ? 'block' : 'none';\n",
              "    })();\n",
              "  </script>\n",
              "</div>\n",
              "\n",
              "    </div>\n",
              "  </div>\n"
            ],
            "application/vnd.google.colaboratory.intrinsic+json": {
              "type": "dataframe",
              "variable_name": "df_scaled",
              "summary": "{\n  \"name\": \"df_scaled\",\n  \"rows\": 9527,\n  \"fields\": [\n    {\n      \"column\": \"AT\",\n      \"properties\": {\n        \"dtype\": \"number\",\n        \"std\": 1.0,\n        \"min\": -2.397538021853784,\n        \"max\": 2.3442831934158397,\n        \"num_unique_values\": 2773,\n        \"samples\": [\n          -1.1603659710709728,\n          -0.5437948838730245,\n          -0.4497644348450151\n        ],\n        \"semantic_type\": \"\",\n        \"description\": \"\"\n      }\n    },\n    {\n      \"column\": \"V\",\n      \"properties\": {\n        \"dtype\": \"number\",\n        \"std\": 0.9999999999999999,\n        \"min\": -2.280680754555999,\n        \"max\": 2.1492917424462035,\n        \"num_unique_values\": 634,\n        \"samples\": [\n          1.7267890274296234,\n          1.1631893236295208,\n          -1.1952586676570605\n        ],\n        \"semantic_type\": \"\",\n        \"description\": \"\"\n      }\n    },\n    {\n      \"column\": \"AP\",\n      \"properties\": {\n        \"dtype\": \"number\",\n        \"std\": 0.9999999999999999,\n        \"min\": -3.425131689522439,\n        \"max\": 3.377296169474084,\n        \"num_unique_values\": 2517,\n        \"samples\": [\n          -2.0632994356426537,\n          -1.8579304183702965,\n          1.9043626439551622\n        ],\n        \"semantic_type\": \"\",\n        \"description\": \"\"\n      }\n    },\n    {\n      \"column\": \"RH\",\n      \"properties\": {\n        \"dtype\": \"number\",\n        \"std\": 1.0,\n        \"min\": -3.270573872786098,\n        \"max\": 1.8363870936965523,\n        \"num_unique_values\": 4546,\n        \"samples\": [\n          -0.46790655418288457,\n          1.766560013457782,\n          1.0854036915207526\n        ],\n        \"semantic_type\": \"\",\n        \"description\": \"\"\n      }\n    },\n    {\n      \"column\": \"PE\",\n      \"properties\": {\n        \"dtype\": \"number\",\n        \"std\": 0.9999999999999998,\n        \"min\": -1.9998678740080758,\n        \"max\": 2.431122424214581,\n        \"num_unique_values\": 4836,\n        \"samples\": [\n          -0.39003921334254593,\n          -0.6130559435842168,\n          -0.6641150370869152\n        ],\n        \"semantic_type\": \"\",\n        \"description\": \"\"\n      }\n    }\n  ]\n}"
            }
          },
          "metadata": {},
          "execution_count": 13
        }
      ],
      "source": [
        "# Defining a function to standardize the data\n",
        "\n",
        "def standardize_data(df):\n",
        "    \"\"\"\n",
        "    Standardize the input DataFrame by scaling each feature to have mean 0 and variance 1.\n",
        "\n",
        "    Parameters:\n",
        "    df (DataFrame): Input DataFrame with missing values handled.\n",
        "\n",
        "    Returns:\n",
        "    DataFrame: DataFrame with standardized data.\n",
        "    \"\"\"\n",
        "    # Calculate the mean and standard deviation of each feature\n",
        "    means = df.mean()\n",
        "    stds = df.std()\n",
        "\n",
        "    # Standardize each feature using the formula\n",
        "    df_standardized = (df - means) / stds\n",
        "\n",
        "    return df_standardized\n",
        "\n",
        "df_scaled = standardize_data(df)\n",
        "df_scaled.head()"
      ]
    },
    {
      "cell_type": "markdown",
      "id": "thermal-rehabilitation",
      "metadata": {
        "id": "thermal-rehabilitation"
      },
      "source": [
        "#### Exercise 5: Feature selection (1 point)\n",
        "\n",
        "Write a function that takes scaled data as input and returns the features and target variable values\n",
        "\n",
        "**Hint:**\n",
        "\n",
        "- Features: AmbientTemperature, ExhaustVaccum, AmbientPressure, RelativeHumidity\n",
        "- Target Variable: EnergyOutput"
      ]
    },
    {
      "cell_type": "code",
      "execution_count": null,
      "id": "terminal-starter",
      "metadata": {
        "id": "terminal-starter",
        "scrolled": true
      },
      "outputs": [],
      "source": [
        "# Define a function\n",
        "\n",
        "def get_features_target(df):\n",
        "  \"\"\"\n",
        "  Returns the features and target variable values as dataframe\n",
        "  \"\"\"\n",
        "  X = df.drop([\"PE\"], axis=1)\n",
        "  y = df[\"PE\"]\n",
        "  return X, y\n",
        "\n",
        "X, y = get_features_target(df_scaled)"
      ]
    },
    {
      "cell_type": "markdown",
      "id": "timely-bruce",
      "metadata": {
        "id": "timely-bruce"
      },
      "source": [
        "#### Exercise 6: Correlation (1 point)\n",
        "\n",
        "Calculate correlation between the variables"
      ]
    },
    {
      "cell_type": "code",
      "execution_count": null,
      "id": "durable-making",
      "metadata": {
        "colab": {
          "base_uri": "https://localhost:8080/",
          "height": 524
        },
        "id": "durable-making",
        "outputId": "de688245-7cc0-4876-e16d-81beb12471b6",
        "scrolled": true
      },
      "outputs": [
        {
          "output_type": "display_data",
          "data": {
            "text/plain": [
              "<Figure size 1600x600 with 2 Axes>"
            ],
            "image/png": "[encoded data removed]"
          },
          "metadata": {}
        }
      ],
      "source": [
        "# correlation\n",
        "import matplotlib.pyplot as plt\n",
        "import seaborn as sns\n",
        "\n",
        "sns.set()\n",
        "\n",
        "plt.figure(figsize=(16,6))\n",
        "mask = np.triu(np.ones_like(df_scaled.corr()))\n",
        "heatmap = sns.heatmap(df_scaled.corr(), mask=mask, vmin=-1, vmax=1, cmap='coolwarm', annot=True)\n",
        "heatmap.set_title('Correlation Heatmap', fontdict={'fontsize':12}, pad=12);"
      ]
    },
    {
      "cell_type": "markdown",
      "id": "honest-remainder",
      "metadata": {
        "id": "honest-remainder"
      },
      "source": [
        "#### Exercise 7: Estimate the coefficients (2 points)\n",
        "\n",
        "Write a function that takes features and target as input and returns the estimated coefficient values\n",
        "\n",
        "**Hint:**\n",
        "\n",
        "- Calculate the estimated coefficients using the below formula\n",
        "\n",
        "$ β = (X^T X)^{-1} X^T y $\n",
        "\n",
        "- transpose(), np.linalg.inv()"
      ]
    },
    {
      "cell_type": "code",
      "execution_count": null,
      "id": "dimensional-victory",
      "metadata": {
        "colab": {
          "base_uri": "https://localhost:8080/"
        },
        "id": "dimensional-victory",
        "outputId": "bc87a050-3b1b-474c-e967-7177161e96b5",
        "scrolled": true
      },
      "outputs": [
        {
          "output_type": "execute_result",
          "data": {
            "text/plain": [
              "array([ 1.01818781e-15, -8.62253527e-01, -1.75756665e-01,  2.11120293e-02,\n",
              "       -1.34864461e-01])"
            ]
          },
          "metadata": {},
          "execution_count": 16
        }
      ],
      "source": [
        "# Calculating the coeffients\n",
        "\n",
        "def estimate_coefficients(features, target):\n",
        "    \"\"\"\n",
        "    Estimate the coefficient values using ordinary least squares (OLS) method.\n",
        "\n",
        "    Parameters:\n",
        "    features (DataFrame): DataFrame containing the features.\n",
        "    target (Series): Series containing the target variable values.\n",
        "\n",
        "    Returns:\n",
        "    ndarray: Estimated coefficient values.\n",
        "    \"\"\"\n",
        "    # Add a column of ones to the features matrix for the intercept term\n",
        "    X = np.column_stack((np.ones(len(features)), features))\n",
        "\n",
        "    # Calculate the coefficient values using OLS method: β = (X^T X)^(-1) X^T y\n",
        "    coefficients = np.linalg.inv(X.T @ X) @ X.T @ target\n",
        "\n",
        "    return coefficients\n",
        "\n",
        "beta = estimate_coefficients(X, y)\n",
        "beta"
      ]
    },
    {
      "cell_type": "markdown",
      "id": "interior-bennett",
      "metadata": {
        "id": "interior-bennett"
      },
      "source": [
        "#### Exercise 8: Fit the data to estimate the coefficients (2 points)\n",
        "\n",
        "Write a function named fit which takes features and targets as input and returns the intercept and coefficient values.\n",
        "\n",
        "**Hint:**\n",
        "\n",
        "- create a dummy column in the features dataframe which is made up of all ones\n",
        "- convert the features dataframe into numpy array\n",
        "- call the estimated coefficients function which is defined above\n",
        "- np.ones(), np.concatenate()"
      ]
    },
    {
      "cell_type": "code",
      "execution_count": null,
      "id": "local-texas",
      "metadata": {
        "id": "local-texas",
        "scrolled": true
      },
      "outputs": [],
      "source": [
        "# defining a fit function\n",
        "def fit(x, y):\n",
        "    return estimate_coefficients(x, y)"
      ]
    },
    {
      "cell_type": "markdown",
      "id": "hybrid-quick",
      "metadata": {
        "id": "hybrid-quick"
      },
      "source": [
        "#### Exercise 9: Predict the data on estimated coefficients (1 point)\n",
        "\n",
        "Write a function named predict which takes features, intercept and coefficient values as input and returns the predicted values.\n",
        "\n",
        "**Hint:**\n",
        "\n",
        "- Fit the intercept, coefficients values in the below equation\n",
        "\n",
        "  $y = b_0 + b_1*x + ... + b_i*x_i$"
      ]
    },
    {
      "cell_type": "code",
      "execution_count": null,
      "id": "buried-attention",
      "metadata": {
        "id": "buried-attention",
        "scrolled": true
      },
      "outputs": [],
      "source": [
        " # fucntion to predict the values\n",
        "def predict(x, intercept, coefficients):\n",
        "    '''\n",
        "    y = b_0 + b_1*x + ... + b_i*x_i\n",
        "    '''\n",
        "    predictions = np.dot(x, coefficients) + intercept\n",
        "    return predictions"
      ]
    },
    {
      "cell_type": "markdown",
      "id": "rolled-consultancy",
      "metadata": {
        "id": "rolled-consultancy"
      },
      "source": [
        "#### Exercise 10: Root mean squared error (1 point)\n",
        "\n",
        "Write a function to calculate the RMSE error.\n",
        "\n",
        "**Hint:**\n",
        "\n",
        "- [How to calculate the RSME error](https://towardsdatascience.com/what-does-rmse-really-mean-806b65f2e48e)"
      ]
    },
    {
      "cell_type": "code",
      "execution_count": null,
      "id": "phantom-alabama",
      "metadata": {
        "id": "phantom-alabama",
        "scrolled": true
      },
      "outputs": [],
      "source": [
        "# Define a function to calculate the error\n",
        "\n",
        "def calculate_rmse(actual_values, predicted_values):\n",
        "    \"\"\"\n",
        "    Calculate the Root Mean Squared Error (RMSE) between actual and predicted values.\n",
        "\n",
        "    Parameters:\n",
        "    actual_values (ndarray): Array containing the actual target variable values.\n",
        "    predicted_values (ndarray): Array containing the predicted target variable values.\n",
        "\n",
        "    Returns:\n",
        "    float: RMSE value.\n",
        "    \"\"\"\n",
        "    # Calculate the squared differences between actual and predicted values\n",
        "    squared_errors = (actual_values - predicted_values) ** 2\n",
        "\n",
        "    # Calculate the mean of squared errors\n",
        "    mean_squared_error = np.mean(squared_errors)\n",
        "\n",
        "    # Calculate the square root of mean squared error to get RMSE\n",
        "    rmse = np.sqrt(mean_squared_error)\n",
        "\n",
        "    return rmse"
      ]
    },
    {
      "cell_type": "markdown",
      "id": "experimental-discrimination",
      "metadata": {
        "id": "experimental-discrimination"
      },
      "source": [
        "#### Exercise 11: Split the data into train and test (1 point)\n",
        "\n",
        "Write a function named train_test_split which takes features and targets as input and returns the train and test sets respectively.\n",
        "\n",
        "**Hint:**\n",
        "\n",
        "- Shuffle the data\n",
        "- Consider 70 % of data as a train set and the rest of the data as a test set"
      ]
    },
    {
      "cell_type": "code",
      "execution_count": null,
      "id": "dangerous-salmon",
      "metadata": {
        "id": "dangerous-salmon",
        "scrolled": true
      },
      "outputs": [],
      "source": [
        "from sklearn.model_selection import train_test_split\n",
        "\n",
        "def train_test_split_custom(features, targets, test_size=0.3, random_state=None):\n",
        "    \"\"\"\n",
        "    Split the features and targets into training and testing sets.\n",
        "\n",
        "    Parameters:\n",
        "    features (ndarray or DataFrame): Array or DataFrame containing the features.\n",
        "    targets (ndarray or Series): Array or Series containing the target variable.\n",
        "    test_size (float or int, optional): Proportion of the dataset to include in the test split.\n",
        "                                        Defaults to 0.3.\n",
        "    random_state (int, RandomState instance or None, optional): Controls the random state for shuffling.\n",
        "                                                               Defaults to None.\n",
        "\n",
        "    Returns:\n",
        "    tuple: Tuple containing (X_train, X_test, y_train, y_test).\n",
        "    \"\"\"\n",
        "    # Split the data into training and testing sets\n",
        "    X_train, X_test, y_train, y_test = train_test_split(features, targets, test_size=test_size, random_state=random_state)\n",
        "\n",
        "    return X_train, X_test, y_train, y_test"
      ]
    },
    {
      "cell_type": "markdown",
      "id": "living-operation",
      "metadata": {
        "id": "living-operation"
      },
      "source": [
        "#### Exercise 12: Implement predict using OpenMP (1 point)\n",
        "\n",
        "Get the predictions for test data and calculate the test error(RMSE) by implementing the OpenMP (pymp)\n",
        "\n",
        "**Hints:**\n",
        "\n",
        "* Using the pymp.Parallel implement the predict function (use from above)\n",
        "\n",
        "* Call the predict function by passing test data as an argument\n",
        "\n",
        "* calculate the error (RMSE) by comparing the Actual test data and predicted test data"
      ]
    },
    {
      "cell_type": "code",
      "execution_count": null,
      "id": "1PndfF9b_mkN",
      "metadata": {
        "colab": {
          "base_uri": "https://localhost:8080/"
        },
        "id": "1PndfF9b_mkN",
        "outputId": "ce20517a-8444-4fc3-d5f9-e01a4e7bb7ab"
      },
      "outputs": [
        {
          "output_type": "stream",
          "name": "stdout",
          "text": [
            "Collecting pymp-pypi\n",
            "  Downloading pymp-pypi-0.5.0.tar.gz (12 kB)\n",
            "  Preparing metadata (setup.py) ... \u001b[?25l\u001b[?25hdone\n",
            "Building wheels for collected packages: pymp-pypi\n",
            "  Building wheel for pymp-pypi (setup.py) ... \u001b[?25l\u001b[?25hdone\n",
            "  Created wheel for pymp-pypi: filename=pymp_pypi-0.5.0-py3-none-any.whl size=10318 sha256=f7360d26fa6c9da867df721a04d06171cc16c69491f117b16ab17a903175bf16\n",
            "  Stored in directory: /root/.cache/pip/wheels/5e/db/4b/4c02f5b91b1abcde14433d1b336ac00a09761383e7bb1013cf\n",
            "Successfully built pymp-pypi\n",
            "Installing collected packages: pymp-pypi\n",
            "Successfully installed pymp-pypi-0.5.0\n"
          ]
        }
      ],
      "source": [
        "!pip install pymp-pypi"
      ]
    },
    {
      "cell_type": "code",
      "execution_count": null,
      "id": "o8DSppnV_wQa",
      "metadata": {
        "colab": {
          "base_uri": "https://localhost:8080/"
        },
        "id": "o8DSppnV_wQa",
        "outputId": "0c98e46b-06fe-47f4-bd4b-fbf9ea124b4c"
      },
      "outputs": [
        {
          "output_type": "stream",
          "name": "stdout",
          "text": [
            "Test RMSE: 0.2630854037610109\n"
          ]
        }
      ],
      "source": [
        "import pymp\n",
        "\n",
        "def predict_parallel(features, intercept, coefficients):\n",
        "    \"\"\"\n",
        "    Predict the target variable values using parallel processing.\n",
        "\n",
        "    Parameters:\n",
        "    features (ndarray): Array containing the features.\n",
        "    intercept (float): Intercept value.\n",
        "    coefficients (ndarray): Coefficient values.\n",
        "\n",
        "    Returns:\n",
        "    ndarray: Predicted target variable values.\n",
        "    \"\"\"\n",
        "    # Initialize an empty list to store the predictions\n",
        "    predictions = pymp.shared.array((features.shape[0],), dtype='float64')\n",
        "\n",
        "    # Parallelize the prediction process\n",
        "    with pymp.Parallel(4) as p:\n",
        "        # Iterate over the features in parallel\n",
        "        for i in p.range(len(features)):\n",
        "            # Calculate the predicted value for each feature\n",
        "            #p.print('Yay! {} done!'.format(i), p.thread_num)\n",
        "            predictions[i] = predict(features.iloc[i], intercept, coefficients)\n",
        "\n",
        "    return predictions\n",
        "\n",
        "# Get the predictions for the test data using parallel processing\n",
        "X_train, X_test, y_train, y_test = train_test_split_custom(X, y)\n",
        "beta = fit(X_train, y_train)\n",
        "\n",
        "predictions_test = predict_parallel(X_test, beta[0], beta[1:])\n",
        "\n",
        "# Calculate the RMSE error\n",
        "rmse_test = calculate_rmse(y_test, predictions_test)\n",
        "print(\"Test RMSE:\", rmse_test)\n"
      ]
    },
    {
      "cell_type": "markdown",
      "id": "covered-canon",
      "metadata": {
        "id": "covered-canon"
      },
      "source": [
        "#### Exercise 13: Create a communicator (1 point)\n",
        "\n",
        "Create a comunicator and define the rank and size"
      ]
    },
    {
      "cell_type": "code",
      "execution_count": null,
      "id": "radio-origin",
      "metadata": {
        "colab": {
          "base_uri": "https://localhost:8080/"
        },
        "id": "radio-origin",
        "outputId": "7b526681-292e-4d67-9a6f-284356b0107e",
        "scrolled": true
      },
      "outputs": [
        {
          "output_type": "stream",
          "name": "stdout",
          "text": [
            "rank is 0 and size is 1\n"
          ]
        }
      ],
      "source": [
        "# creating the communicator\n",
        "comm = MPI.COMM_WORLD\n",
        "# number of the process running the code i.e rank\n",
        "rank = comm.Get_rank()\n",
        "# total number of processes running i.e size\n",
        "size = comm.Get_size()\n",
        "# Displaying the rank and size of a communicator\n",
        "print(\"rank is {} and size is {}\".format(rank,size))"
      ]
    },
    {
      "cell_type": "markdown",
      "id": "miniature-plaza",
      "metadata": {
        "id": "miniature-plaza"
      },
      "source": [
        "#### Exercise 14: Divide the data into slices (1 point)\n",
        "\n",
        "Write a function named dividing_data which takes train features set, train target set, and size of workers as inputs and returns the sliced data for each worker.\n",
        "\n",
        "![img](https://cdn.iisc.talentsprint.com/CDS/Images/MiniProject_MPI_DataSlice.JPG)\n",
        "\n",
        "For Example, if there are 4 processes, slice the data into 4 equal parts with 25% ratio\n",
        "\n",
        "**Hint:**\n",
        "\n",
        "- Divide the Data equally among the workers\n",
        "  - Create an empty list\n",
        "  - Iterate over the size of workers\n",
        "  - Append each slice of data to the list"
      ]
    },
    {
      "cell_type": "code",
      "execution_count": null,
      "id": "signal-medicaid",
      "metadata": {
        "colab": {
          "base_uri": "https://localhost:8080/"
        },
        "id": "signal-medicaid",
        "outputId": "17e1192f-f577-42c6-ee0c-b863b331c5ad",
        "scrolled": true
      },
      "outputs": [
        {
          "output_type": "stream",
          "name": "stdout",
          "text": [
            "Slice of data for each worker: 6668\n"
          ]
        },
        {
          "output_type": "execute_result",
          "data": {
            "text/plain": [
              "[(            AT         V        AP        RH\n",
              "  8573 -1.087828 -1.183435 -0.331130  0.596614\n",
              "  8489 -0.572004 -1.035244 -1.329358  0.471336\n",
              "  8808  0.526809 -0.393607 -1.588594  0.087972\n",
              "  4748 -1.564697 -1.090421  1.040803  0.192712\n",
              "  2511  0.970095  1.518691 -1.411842  1.439331\n",
              "  ...        ...       ...       ...       ...\n",
              "  4531 -1.685593 -1.065985  1.542442  1.205890\n",
              "  7535  0.863975  0.324490  0.067825 -0.599346\n",
              "  1580 -1.466637 -1.418334  0.327061 -0.778021\n",
              "  2735 -1.232904 -0.974548  0.662048  1.333221\n",
              "  2564  0.967409  1.327934 -1.031404  0.224203\n",
              "  \n",
              "  [6668 rows x 4 columns],\n",
              "  8573    1.371793\n",
              "  8489    0.635251\n",
              "  8808   -0.815532\n",
              "  4748    1.237396\n",
              "  2511   -1.391267\n",
              "            ...   \n",
              "  4531    1.245026\n",
              "  7535   -0.908260\n",
              "  1580   -0.921758\n",
              "  2735    1.506777\n",
              "  2564   -1.606067\n",
              "  Name: PE, Length: 6668, dtype: float64)]"
            ]
          },
          "metadata": {},
          "execution_count": 24
        }
      ],
      "source": [
        "def dividing_data(x_train, y_train, size_of_workers):\n",
        "    # Size of the slice\n",
        "    slice_for_each_worker = int(Decimal(x_train.shape[0]/size_of_workers).quantize(Decimal('1.'), rounding = ROUND_HALF_UP))\n",
        "    print('Slice of data for each worker: {}'.format(slice_for_each_worker))\n",
        "    # Initialize list to store sliced data\n",
        "    sliced_data = []\n",
        "\n",
        "    # Iterate over the number of workers\n",
        "    for i in range(size_of_workers):\n",
        "        start_index = i * slice_for_each_worker\n",
        "        end_index = (i + 1) * slice_for_each_worker if i < size_of_workers - 1 else len(x_train)\n",
        "\n",
        "        # Slice the data for this worker\n",
        "        features_slice = x_train[start_index:end_index]\n",
        "        target_slice = y_train[start_index:end_index]\n",
        "\n",
        "        # Append sliced data to the list\n",
        "        sliced_data.append((features_slice, target_slice))\n",
        "\n",
        "    return sliced_data\n",
        "\n",
        "dividing_data(X_train, y_train, size)"
      ]
    },
    {
      "cell_type": "markdown",
      "id": "changing-conditioning",
      "metadata": {
        "id": "changing-conditioning"
      },
      "source": [
        "#### Exercise 15: Prepare the data in root worker to assign data for all the workers (1 point)\n",
        "\n",
        "- When it is the root worker, perform the below operation:\n",
        "    - Store the features and target values in separate variables\n",
        "    - Split the data into train and test sets using the train_test_split function defined above\n",
        "    - Divide the data among the workers using the dividing_data function above"
      ]
    },
    {
      "cell_type": "code",
      "execution_count": null,
      "id": "hybrid-tamil",
      "metadata": {
        "colab": {
          "base_uri": "https://localhost:8080/"
        },
        "id": "hybrid-tamil",
        "outputId": "05a97ef8-c766-4759-f719-9853545f8477",
        "scrolled": true
      },
      "outputs": [
        {
          "output_type": "stream",
          "name": "stdout",
          "text": [
            "Slice of data for each worker: 6668\n"
          ]
        }
      ],
      "source": [
        "if rank == 0:  # Root worker\n",
        "  # Split the data into train and test sets\n",
        "  X_train, X_test, y_train, y_test = train_test_split_custom(X, y)\n",
        "\n",
        "  # Divide the data among the workers\n",
        "  divided_data = dividing_data(X_train, y_train, size)"
      ]
    },
    {
      "cell_type": "markdown",
      "id": "breathing-baking",
      "metadata": {
        "id": "breathing-baking"
      },
      "source": [
        "#### Exercise 16: Scatter and gather the data (1 point)\n",
        "\n",
        "Perform the below operations:\n",
        "\n",
        "- Send slices of the training set(the features data X and the expected target data Y) to every worker including the root worker\n",
        "    - **Hint:** scatter()\n",
        "    - use `barrier()` to block workers until all workers in the group reach a Barrier, to scatter from root worker.\n",
        "- Every worker should get the predicted target Y(yhat) for each slice\n",
        "- Get the new coefficient of each instance in a slice\n",
        "    - **Hint:** fit function defined above\n",
        "- Gather the new coefficient from each worker\n",
        "    - **Hint:** gather()\n",
        "    - Take the mean of the gathered coefficients\n",
        "- Calculate the root mean square error for the test set\n",
        "\n",
        "To know more about `scatter`, `gather` and `barrier` click [here](https://nyu-cds.github.io/python-mpi/05-collectives/)"
      ]
    },
    {
      "cell_type": "code",
      "execution_count": null,
      "id": "consistent-union",
      "metadata": {
        "colab": {
          "base_uri": "https://localhost:8080/"
        },
        "id": "consistent-union",
        "outputId": "6cca9038-231b-4fbc-a984-38a9295b2f2b",
        "scrolled": true
      },
      "outputs": [
        {
          "output_type": "stream",
          "name": "stdout",
          "text": [
            "Root Mean Square Error: 0.2728871929404159\n"
          ]
        }
      ],
      "source": [
        "# Scatter the data to all workers\n",
        "comm.barrier()\n",
        "data_slice = comm.scatter(divided_data, root=0)\n",
        "\n",
        "# Unpack data slice\n",
        "X_train_slice = data_slice[0]\n",
        "y_train_slice = data_slice[1]\n",
        "\n",
        "# Fit model and get coefficients\n",
        "coefficients = fit(X_train_slice, y_train_slice)\n",
        "\n",
        "# Gather coefficients from all workers\n",
        "all_coefficients = comm.gather(coefficients, root=0)\n",
        "\n",
        "if rank == 0:  # Root worker\n",
        "    # Calculate the mean of coefficients\n",
        "    mean_coefficients = np.mean(all_coefficients, axis=0)\n",
        "\n",
        "    # Predict target values for test set\n",
        "    y_pred = predict(X_test, mean_coefficients[0], mean_coefficients[1:])\n",
        "\n",
        "    # Calculate root mean square error\n",
        "    rmse = calculate_rmse(y_test, y_pred)\n",
        "\n",
        "    print(\"Root Mean Square Error:\", rmse)"
      ]
    },
    {
      "cell_type": "markdown",
      "id": "hired-uniform",
      "metadata": {
        "id": "hired-uniform"
      },
      "source": [
        "#### Exercise 17: Make a script and execute everything in one place (1 point)\n",
        "\n",
        "Write a script(.py) file which contains the code of all the above exercises in it so that you can run the code on multiple processes using MPI.\n",
        "\n",
        "**Hint:**\n",
        "\n",
        "- magic commands\n",
        "- put MPI related code under main function\n",
        "- !mpirun --allow-run-as-root -np 4 python filename.py"
      ]
    },
    {
      "cell_type": "code",
      "execution_count": null,
      "id": "motivated-national",
      "metadata": {
        "colab": {
          "base_uri": "https://localhost:8080/"
        },
        "id": "motivated-national",
        "outputId": "e35ce7a5-4d0f-4e66-c2a0-f5a6c49f6173"
      },
      "outputs": [
        {
          "output_type": "stream",
          "name": "stdout",
          "text": [
            "Overwriting miniproject1.py\n"
          ]
        }
      ],
      "source": [
        "%%writefile miniproject1.py\n",
        "from mpi4py import MPI\n",
        "import pandas as pd\n",
        "import numpy as np\n",
        "from math import sqrt\n",
        "from decimal import Decimal, ROUND_HALF_UP\n",
        "from sklearn.model_selection import train_test_split\n",
        "\n",
        "# fucntion to predict the values\n",
        "def predict(x, intercept, coefficients):\n",
        "    '''\n",
        "    y = b_0 + b_1*x + ... + b_i*x_i\n",
        "    '''\n",
        "    predictions = np.dot(x, coefficients) + intercept\n",
        "    return predictions\n",
        "\n",
        "# Define a function to calculate the error\n",
        "def calculate_rmse(actual_values, predicted_values):\n",
        "    \"\"\"\n",
        "    Calculate the Root Mean Squared Error (RMSE) between actual and predicted values.\n",
        "\n",
        "    Parameters:\n",
        "    actual_values (ndarray): Array containing the actual target variable values.\n",
        "    predicted_values (ndarray): Array containing the predicted target variable values.\n",
        "\n",
        "    Returns:\n",
        "    float: RMSE value.\n",
        "    \"\"\"\n",
        "    # Calculate the squared differences between actual and predicted values\n",
        "    squared_errors = (actual_values - predicted_values) ** 2\n",
        "\n",
        "    # Calculate the mean of squared errors\n",
        "    mean_squared_error = np.mean(squared_errors)\n",
        "\n",
        "    # Calculate the square root of mean squared error to get RMSE\n",
        "    rmse = np.sqrt(mean_squared_error)\n",
        "\n",
        "    return rmse\n",
        "\n",
        "# Divide the data into slices\n",
        "def dividing_data(x_train, y_train, size_of_workers):\n",
        "    # Size of the slice\n",
        "    slice_for_each_worker = int(Decimal(x_train.shape[0]/size_of_workers).quantize(Decimal('1.'), rounding = ROUND_HALF_UP))\n",
        "    print('Slice of data for each worker: {}'.format(slice_for_each_worker))\n",
        "    # Initialize list to store sliced data\n",
        "    sliced_data = []\n",
        "\n",
        "    # Iterate over the number of workers\n",
        "    for i in range(size_of_workers):\n",
        "        start_index = i * slice_for_each_worker\n",
        "        end_index = (i + 1) * slice_for_each_worker if i < size_of_workers - 1 else len(x_train)\n",
        "\n",
        "        # Slice the data for this worker\n",
        "        features_slice = x_train[start_index:end_index]\n",
        "        target_slice = y_train[start_index:end_index]\n",
        "\n",
        "        # Append sliced data to the list\n",
        "        sliced_data.append((features_slice, target_slice))\n",
        "\n",
        "    return sliced_data\n",
        "\n",
        "# defining a fit function\n",
        "def fit(x, y):\n",
        "    return estimate_coefficients(x, y)\n",
        "\n",
        "# Calculating the coeffients\n",
        "def estimate_coefficients(features, target):\n",
        "    \"\"\"\n",
        "    Estimate the coefficient values using ordinary least squares (OLS) method.\n",
        "\n",
        "    Parameters:\n",
        "    features (DataFrame): DataFrame containing the features.\n",
        "    target (Series): Series containing the target variable values.\n",
        "\n",
        "    Returns:\n",
        "    ndarray: Estimated coefficient values.\n",
        "    \"\"\"\n",
        "    # Add a column of ones to the features matrix for the intercept term\n",
        "    X = np.column_stack((np.ones(len(features)), features))\n",
        "\n",
        "    # Calculate the coefficient values using OLS method: β = (X^T X)^(-1) X^T y\n",
        "    coefficients = np.linalg.inv(X.T @ X) @ X.T @ target\n",
        "\n",
        "    return coefficients\n",
        "\n",
        "\n",
        "# Define a function to load the data\n",
        "def load_data(filename):\n",
        "\t\"\"\"\n",
        "\tLoad the Pandas dataframe from CSV\n",
        "\t\"\"\"\n",
        "\treturn pd.read_csv(filename)\n",
        "\n",
        "# Function to handle missing data\n",
        "def handle_missing_data(df, strategy='mean'):\n",
        "    \"\"\"\n",
        "    Handle missing data in a DataFrame.\n",
        "\n",
        "    Parameters:\n",
        "    df (DataFrame): Input DataFrame with missing values.\n",
        "    strategy (str): Imputation strategy. Options: 'mean', 'median', 'mode', or a specific value.\n",
        "\n",
        "    Returns:\n",
        "    DataFrame: DataFrame with missing values handled according to the specified strategy.\n",
        "    \"\"\"\n",
        "    if strategy == 'drop':\n",
        "        return df.dropna()\n",
        "    elif strategy == 'mean':\n",
        "        return df.fillna(df.mean())\n",
        "    elif strategy == 'median':\n",
        "        return df.fillna(df.median())\n",
        "    elif strategy == 'mode':\n",
        "        return df.fillna(df.mode().iloc[0])\n",
        "    else:\n",
        "        return df.fillna(strategy)\n",
        "\n",
        "# Defining a function to standardize the data\n",
        "def standardize_data(df):\n",
        "    \"\"\"\n",
        "    Standardize the input DataFrame by scaling each feature to have mean 0 and variance 1.\n",
        "\n",
        "    Parameters:\n",
        "    df (DataFrame): Input DataFrame with missing values handled.\n",
        "\n",
        "    Returns:\n",
        "    DataFrame: DataFrame with standardized data.\n",
        "    \"\"\"\n",
        "    # Calculate the mean and standard deviation of each feature\n",
        "    means = df.mean()\n",
        "    stds = df.std()\n",
        "\n",
        "    # Standardize each feature using the formula\n",
        "    df_standardized = (df - means) / stds\n",
        "\n",
        "    return df_standardized\n",
        "\n",
        "def get_features_target(df):\n",
        "\t\"\"\"\n",
        "\tReturns the features and target variable values as dataframe\n",
        "\t\"\"\"\n",
        "\tX = df.drop([\"PE\"], axis=1)\n",
        "\ty = df[\"PE\"]\n",
        "\treturn X, y\n",
        "\n",
        "\n",
        "def train_test_split_custom(features, targets, test_size=0.3, random_state=None):\n",
        "    \"\"\"\n",
        "    Split the features and targets into training and testing sets.\n",
        "\n",
        "    Parameters:\n",
        "    features (ndarray or DataFrame): Array or DataFrame containing the features.\n",
        "    targets (ndarray or Series): Array or Series containing the target variable.\n",
        "    test_size (float or int, optional): Proportion of the dataset to include in the test split.\n",
        "                                        Defaults to 0.3.\n",
        "    random_state (int, RandomState instance or None, optional): Controls the random state for shuffling.\n",
        "                                                               Defaults to None.\n",
        "\n",
        "    Returns:\n",
        "    tuple: Tuple containing (X_train, X_test, y_train, y_test).\n",
        "    \"\"\"\n",
        "    # Split the data into training and testing sets\n",
        "    X_train, X_test, y_train, y_test = train_test_split(features, targets)\n",
        "\n",
        "    return X_train, X_test, y_train, y_test\n",
        "\n",
        "def main():\n",
        "\t# Initialize MPI\n",
        "\t# creating the communicator\n",
        "\tcomm = MPI.COMM_WORLD\n",
        "\t# number of the process running the code i.e rank\n",
        "\trank = comm.Get_rank()\n",
        "\t# total number of processes running i.e size\n",
        "\tsize = comm.Get_size()\n",
        "\t# Displaying the rank and size of a communicator\n",
        "\tprint(\"rank is {} and size is {}\".format(rank,size))\n",
        "\n",
        "\t# Load data\n",
        "\tFILENAME = \"/content/PowerPlantData.csv\" # File path\n",
        "\tdf = load_data(FILENAME)\n",
        "\n",
        "\t# preprocessing\n",
        "\tdf = handle_missing_data(df)\n",
        "\tdf = df.drop_duplicates()\n",
        "\tdf = standardize_data(df)\n",
        "\n",
        "\tif rank == 0:  # Root worker\n",
        "\t\t# Split data into features and target\n",
        "\t\tX, y = get_features_target(df)\n",
        "\n",
        "\t\t# Split the data into train and test sets\n",
        "\t\tX_train, X_test, y_train, y_test = train_test_split_custom(X, y)\n",
        "\n",
        "\t\t# Divide the data among the workers\n",
        "\t\tdivided_data = dividing_data(X_train, y_train, size)\n",
        "\telse:  # Non-root workers\n",
        "\t\tdivided_data = None\n",
        "\n",
        "\tcomm.barrier()\n",
        "\tdata_slice = comm.scatter(divided_data, root=0)\n",
        "\n",
        "\t# Unpack data slice\n",
        "\tX_train_slice = data_slice[0]\n",
        "\ty_train_slice = data_slice[1]\n",
        "\n",
        "\t# Fit model and get coefficients\n",
        "\tcoefficients = fit(X_train_slice, y_train_slice)\n",
        "\n",
        "\t# Gather coefficients from all workers\n",
        "\tall_coefficients = comm.gather(coefficients, root=0)\n",
        "\n",
        "\tif rank == 0:  # Root worker\n",
        "\t\t# Calculate the mean of coefficients\n",
        "\t\tmean_coefficients = np.mean(all_coefficients, axis=0)\n",
        "\n",
        "\t\t# Predict target values for test set\n",
        "\t\ty_pred = predict(X_test, mean_coefficients[0], mean_coefficients[1:])\n",
        "\n",
        "\t\t# Calculate root mean square error\n",
        "\t\trmse = calculate_rmse(y_test, y_pred)\n",
        "\n",
        "\t\tprint(\"Root Mean Square Error:\", rmse)\n",
        "\n",
        "main()\n"
      ]
    },
    {
      "cell_type": "code",
      "execution_count": null,
      "id": "experimental-waterproof",
      "metadata": {
        "id": "experimental-waterproof",
        "scrolled": true
      },
      "outputs": [],
      "source": [
        "!mpirun --allow-run-as-root -np 4 python miniproject1.py"
      ]
    },
    {
      "cell_type": "markdown",
      "id": "protecting-assets",
      "metadata": {
        "id": "protecting-assets"
      },
      "source": [
        "#### Exercise 18: Use Sklearn to compare (1 point)\n",
        "\n",
        "Apply the Linear regression on the given data using sklearn package and compare with the above results\n",
        "\n",
        "**Hint:**\n",
        "* Split the data into train and test\n",
        "* Fit the train data and predict the test data using `sklearn Linear Regression`\n",
        "* Compare the coefficients and intercept with above estimated coefficients\n",
        "* calculate loss (RMSE) on test data and predictions and compare"
      ]
    },
    {
      "cell_type": "code",
      "execution_count": null,
      "id": "applicable-tyler",
      "metadata": {
        "colab": {
          "base_uri": "https://localhost:8080/"
        },
        "id": "applicable-tyler",
        "outputId": "d55cc652-5622-46f4-c7f1-564ba2ce2c1e"
      },
      "outputs": [
        {
          "output_type": "stream",
          "name": "stdout",
          "text": [
            "Intercept=-0.00043424392102492555, \n",
            "Coefficients=[-0.8638556  -0.17448347  0.02483458 -0.13584509]\n",
            "Root Mean Square Error: 0.28077750927390055\n"
          ]
        }
      ],
      "source": [
        "from sklearn.linear_model import LinearRegression\n",
        "\n",
        "X_train, X_test, y_train, y_test = train_test_split_custom(X, y)\n",
        "\n",
        "# Fit linear regression model\n",
        "model = LinearRegression()\n",
        "model.fit(X_train, y_train)\n",
        "\n",
        "# Get coefficients and intercept\n",
        "coefficients = model.coef_\n",
        "intercept = model.intercept_\n",
        "print('Intercept=' + str(intercept) + \", \\nCoefficients=\" + str(coefficients))\n",
        "\n",
        "# Predict target values for test set\n",
        "y_pred = predict(X_test, intercept, coefficients)\n",
        "\n",
        "# Calculate root mean square error\n",
        "rmse = calculate_rmse(y_test, y_pred)\n",
        "\n",
        "print(\"Root Mean Square Error:\", rmse)\n"
      ]
    }
  ],
  "metadata": {
    "colab": {
      "provenance": [],
      "include_colab_link": true
    },
    "kernelspec": {
      "display_name": "Python 3",
      "language": "python",
      "name": "python3"
    },
    "language_info": {
      "codemirror_mode": {
        "name": "ipython",
        "version": 3
      },
      "file_extension": ".py",
      "mimetype": "text/x-python",
      "name": "python",
      "nbconvert_exporter": "python",
      "pygments_lexer": "ipython3",
      "version": "3.6.7rc1"
    }
  },
  "nbformat": 4,
  "nbformat_minor": 5
}